{
 "cells": [
  {
   "cell_type": "code",
   "execution_count": 1,
   "metadata": {
    "collapsed": true
   },
   "outputs": [],
   "source": [
    "import numpy as np\n",
    "import torch\n",
    "import csv\n",
    "import pandas as pd\n",
    "import io\n",
    "from numpy import random\n",
    "import torch.nn.functional as F\n",
    "BATCH_SIZE = 32\n",
    "import matplotlib.pyplot as plt\n",
    "import pickle"
   ]
  },
  {
   "cell_type": "code",
   "execution_count": 2,
   "metadata": {
    "collapsed": true
   },
   "outputs": [],
   "source": [
    "\n",
    "if torch.cuda.is_available and torch.has_cudnn:\n",
    "    device = torch.device('cuda')\n",
    "else:\n",
    "    device = torch.device(\"cpu\")\n",
    "\n",
    "#device = torch.device(\"cpu\")"
   ]
  },
  {
   "cell_type": "code",
   "execution_count": 3,
   "metadata": {
    "collapsed": true
   },
   "outputs": [],
   "source": [
    "#load data\n",
    "def load_tsv(filename):\n",
    "    train_s1 = []\n",
    "    train_s2 = []\n",
    "    train = []\n",
    "    train_label = []\n",
    "    with open(filename) as tsvfile:\n",
    "      reader = csv.reader(tsvfile, delimiter='\\t')\n",
    "      for row in reader:\n",
    "            \n",
    "        train_s1.append(row[0].split())\n",
    "        \n",
    "        train_s2.append(row[1].split())\n",
    "        \n",
    "        if row[2] == 'neutral': \n",
    "            train_label.append(1)\n",
    "        elif row[2] == 'entailment':\n",
    "            train_label.append(2)\n",
    "        else:\n",
    "            train_label.append(0)\n",
    "    train_s1 = train_s1[1:]\n",
    "    train_s2 = train_s2[1:]\n",
    "    \n",
    "    \n",
    "    train_label = train_label[1:]\n",
    "    \n",
    "    return train_s1,train_s2, train_label"
   ]
  },
  {
   "cell_type": "code",
   "execution_count": 4,
   "metadata": {
    "collapsed": true
   },
   "outputs": [],
   "source": [
    "train_s1,train_s2,train_label = load_tsv('snli_train.tsv')\n",
    "val_s1,val_s2,val_label = load_tsv('snli_val.tsv')\n"
   ]
  },
  {
   "cell_type": "code",
   "execution_count": 5,
   "metadata": {
    "collapsed": true
   },
   "outputs": [],
   "source": [
    "ft_home = './'\n",
    "words_to_load = 50000\n",
    "\n",
    "import numpy as np\n",
    "\n",
    "with open(ft_home + 'wiki-news-300d-1M.vec') as f:\n",
    "    loaded_embeddings_ft = np.zeros((words_to_load + 2, 300))\n",
    "    words_ft = {}\n",
    "    idx2words_ft = {}\n",
    "    ordered_words_ft = []\n",
    "    \n",
    "    for i, line in enumerate(f):\n",
    "        if i >= words_to_load: \n",
    "            break\n",
    "        s = line.split()\n",
    "        loaded_embeddings_ft[i, :] = np.asarray(s[1:])\n",
    "        words_ft[s[0]] = i\n",
    "        idx2words_ft[i] = s[0]\n",
    "        ordered_words_ft.append(s[0])\n",
    "        \n",
    "#words_ft: {word: idx}, token2id\n",
    "#idx2words_ft: {idx: word}, id2token\n",
    "#ordered_words_ft[idx] = word\n",
    "#loaded_embeddings_ft[idx] = embedding vector\n",
    "\n",
    "idx_pad = len(words_ft)\n",
    "idx_unk = len(words_ft) + 1\n",
    "words_ft['<pad>'] = idx_pad\n",
    "words_ft['<unk>'] = idx_unk\n",
    "idx2words_ft[idx_pad] = '<pad>'\n",
    "idx2words_ft[idx_unk] = '<unk>'\n",
    "ordered_words_ft.append('<pad>')\n",
    "ordered_words_ft.append('<unk>')\n",
    "loaded_embeddings_ft[idx_pad] = np.zeros((300,))\n",
    "loaded_embeddings_ft[idx_unk] = random.normal(loc=0.0, scale=1.0, size=300)\n",
    "\n"
   ]
  },
  {
   "cell_type": "code",
   "execution_count": 6,
   "metadata": {
    "collapsed": true
   },
   "outputs": [],
   "source": [
    "# convert token to id in the dataset\n",
    "def token2index_dataset(tokens_data):\n",
    "    indices_data = []\n",
    "    for tokens in tokens_data:\n",
    "        index_list = []\n",
    "        for token in tokens:\n",
    "            try:\n",
    "                index_list.append(words_ft[token])\n",
    "            except KeyError:\n",
    "                index_list.append(idx_unk)\n",
    "        #index_list = [words_ft[token] if token in words_ft.keys() else idx_unk for token in tokens]\n",
    "        indices_data.append(index_list)\n",
    "    return indices_data\n",
    "\n",
    "train_s1_indices = token2index_dataset(train_s1)\n",
    "train_s2_indices = token2index_dataset(train_s2)\n",
    "val_s1_indices = token2index_dataset(val_s1)\n",
    "val_s2_indices = token2index_dataset(val_s2)\n",
    "\n",
    "\n",
    "# double checking\n",
    "assert len(train_s1_indices) == len(train_s1)\n",
    "assert len(train_s2_indices) == len(train_s2)\n",
    "assert len(val_s1_indices) == len(val_s1)\n",
    "assert len(val_s2_indices) == len(val_s2)\n",
    "\n"
   ]
  },
  {
   "cell_type": "code",
   "execution_count": 7,
   "metadata": {
    "collapsed": true
   },
   "outputs": [],
   "source": [
    "#Create Data Loader\n",
    "\n",
    "import torch\n",
    "from torch.utils.data import Dataset\n",
    "\n",
    "class load_dataset(Dataset):\n",
    "    \"\"\"\n",
    "    Class that represents a train/validation/test dataset that's readable for PyTorch\n",
    "    Note that this class inherits torch.utils.data.Dataset\n",
    "    \"\"\"\n",
    "    \n",
    "    def __init__(self, data_list_s1,data_list_s2, target_list):\n",
    "        \"\"\"\n",
    "        @param data_list_s1: list of s1 tokens \n",
    "        @param data_list_s2: list of s2 tokens\n",
    "        @param target_list: list of s1 targets \n",
    "\n",
    "        \"\"\"\n",
    "        self.data_list_s1 = data_list_s1\n",
    "        self.data_list_s2 = data_list_s2\n",
    "        self.target_list = target_list\n",
    "        assert (len(self.data_list_s1) == len(self.target_list))\n",
    "        assert (len(self.data_list_s2) == len(self.target_list))\n",
    "\n",
    "    def __len__(self):\n",
    "        return len(self.data_list_s1)\n",
    "        \n",
    "    def __getitem__(self, key):\n",
    "        \"\"\"\n",
    "        Triggered when you call dataset[i]\n",
    "        \"\"\"\n",
    "        \n",
    "        token_idx_s1 = self.data_list_s1[key]\n",
    "        token_idx_s2 = self.data_list_s2[key]\n",
    "        label = self.target_list[key]\n",
    "        return [token_idx_s1, token_idx_s2, len(token_idx_s1), len(token_idx_s2),label]\n",
    "\n",
    "def collate_func(batch):\n",
    "    \"\"\"\n",
    "    Customized function for DataLoader that dynamically pads the batch so that all \n",
    "    data have the same length\n",
    "    \"\"\"\n",
    "    data_list_s1 = []\n",
    "    data_list_s2 = []\n",
    "    label_list = []\n",
    "    length_list_s1 = []\n",
    "    length_list_s2 = []\n",
    "    #print(\"collate batch: \", batch[0][0])\n",
    "    #batch[0][0] = batch[0][0][:MAX_SENTENCE_LENGTH]\n",
    "    for datum in batch:\n",
    "        label_list.append(datum[4])\n",
    "        length_list_s1.append(datum[2])\n",
    "        length_list_s2.append(datum[3])\n",
    "    # padding\n",
    "    #find max length in each batch\n",
    "    \n",
    "    length_list_s1_sorted = sorted(length_list_s1)\n",
    "    s1_ceiling = length_list_s1_sorted[int(round(len(batch)*0.99))-1]\n",
    "    length_list_s2_sorted = sorted(length_list_s2)\n",
    "    s2_ceiling = length_list_s2_sorted[int(round(len(batch)*0.99))-1]\n",
    "    \n",
    "    max_s1 = 0\n",
    "    max_s2 = 0\n",
    "    for datum in batch:\n",
    "        if datum[2] > max_s1:\n",
    "            max_s1 = datum[2]\n",
    "        \n",
    "        if datum[3] > max_s2:\n",
    "            max_s2 = datum[3]\n",
    "    '''\n",
    "    if max_s1>s1_ceiling:\n",
    "        max_s1 = s1_ceiling\n",
    "    if max_s2>s2_ceiling:\n",
    "        max_s2 = s2_ceiling\n",
    "    \n",
    "    final_length_s1 = []\n",
    "    final_length_s2 = []\n",
    "    final_label = []\n",
    "    '''\n",
    "    for datum in batch:\n",
    "        '''\n",
    "        if datum[2]>s1_ceiling:\n",
    "            datum[0] = datum[0][:s1_ceiling]\n",
    "            datum[2] = s1_ceiling\n",
    "        if datum[3]>s2_ceiling:\n",
    "            datum[1] = datum[1][:s2_ceiling]\n",
    "            datum[3] = s2_ceiling\n",
    "        '''\n",
    "        \n",
    "\n",
    "        padded_vec_s1 = np.pad(np.array(datum[0]), \n",
    "                                pad_width=((0,max_s1 - datum[2])), \n",
    "                                mode=\"constant\", constant_values=0)\n",
    "        padded_vec_s2 = np.pad(np.array(datum[1]), \n",
    "                                pad_width=((0,max_s2 - datum[3])), \n",
    "                                mode=\"constant\", constant_values=0)\n",
    "        data_list_s1.append(padded_vec_s1)\n",
    "        data_list_s2.append(padded_vec_s2)\n",
    "        '''\n",
    "        final_length_s1.append(datum[2])\n",
    "        final_length_s2.append(datum[3])\n",
    "        final_label.append(datum[4])\n",
    "        '''\n",
    "    #return [torch.from_numpy(np.array(data_list_s1)), torch.from_numpy(np.array(data_list_s2)),torch.LongTensor(final_length_s1), torch.LongTensor(final_length_s2),torch.LongTensor(final_label)]\n",
    "    return [torch.from_numpy(np.array(data_list_s1)), torch.from_numpy(np.array(data_list_s2)),torch.LongTensor(length_list_s1), torch.LongTensor(length_list_s2),torch.LongTensor(label_list)]"
   ]
  },
  {
   "cell_type": "code",
   "execution_count": 8,
   "metadata": {
    "collapsed": true
   },
   "outputs": [],
   "source": [
    "# create pytorch dataloader\n",
    "train_loader = load_dataset(train_s1_indices,train_s2_indices, train_label)\n",
    "val_loader = load_dataset(val_s1_indices, val_s2_indices, val_label)\n",
    "\n",
    "BATCH_SIZE = 32\n",
    "train_dataset = load_dataset(train_s1_indices,train_s2_indices, train_label)\n",
    "train_loader = torch.utils.data.DataLoader(dataset=(train_dataset), \n",
    "                                           batch_size=BATCH_SIZE,\n",
    "                                           collate_fn=collate_func,\n",
    "                                           shuffle=True)\n",
    "\n",
    "val_dataset = load_dataset(val_s1_indices,val_s2_indices, val_label)\n",
    "val_loader = torch.utils.data.DataLoader(dataset=val_dataset, \n",
    "                                           batch_size=BATCH_SIZE,\n",
    "                                           collate_fn=collate_func,\n",
    "                                           shuffle=True)"
   ]
  },
  {
   "cell_type": "code",
   "execution_count": 9,
   "metadata": {},
   "outputs": [
    {
     "data": {
      "text/plain": [
       "torch.Size([2, 31, 100])"
      ]
     },
     "execution_count": 9,
     "metadata": {},
     "output_type": "execute_result"
    }
   ],
   "source": [
    "t = torch.randn(2, 31, 100)\n",
    "t.shape"
   ]
  },
  {
   "cell_type": "code",
   "execution_count": 9,
   "metadata": {
    "collapsed": true
   },
   "outputs": [],
   "source": [
    "import torch.nn as nn\n",
    "class RNN(nn.Module):\n",
    "    def __init__(self, weight, emb_size, hidden_size, num_layers, num_classes,element_mul):\n",
    "        # RNN Accepts the following hyperparams:\n",
    "        # hidden_size: Hidden Size of layer in RNN\n",
    "        # num_layers: number of layers in RNN\n",
    "        # num_classes: number of output classes\n",
    "        # vocab_size: vocabulary size\n",
    "        super(RNN, self).__init__()\n",
    "\n",
    "        self.num_layers, self.hidden_size = num_layers, hidden_size\n",
    "        \n",
    "        self.element_mul = element_mul\n",
    "        \n",
    "        #self.embedding = nn.Embedding(vocab_size, emb_size, padding_idx=PAD_IDX)\n",
    "        self.embedding = nn.Embedding.from_pretrained(torch.Tensor(weight), freeze = True).float()\n",
    "        #self.rnn = nn.RNN(emb_size, hidden_size, num_layers, batch_first=True)\n",
    "        self.rnn = nn.GRU(emb_size, hidden_size,num_layers,batch_first = True, bidirectional = True)\n",
    "        \n",
    "        if element_mul == False:\n",
    "            self.fc = nn.Sequential(\n",
    "                nn.Linear(2*hidden_size, hidden_size), \n",
    "                nn.ReLU(inplace=True), \n",
    "                nn.Linear(hidden_size, num_classes))\n",
    "        else:\n",
    "            self.fc = nn.Sequential(\n",
    "                nn.Linear(hidden_size, hidden_size), \n",
    "                nn.ReLU(inplace=True), \n",
    "                nn.Linear(hidden_size, num_classes))\n",
    "        self.fc1 = nn.Linear(2*hidden_size, hidden_size)\n",
    "        self.relu = nn.LeakyReLU(inplace=True)\n",
    "        self.fc2 = nn.Linear(hidden_size, num_classes)\n",
    "        \n",
    "\n",
    "    def init_hidden(self, batch_size):\n",
    "        # Function initializes the activation of recurrent neural net at timestep 0\n",
    "        # Needs to be in format (num_layers, batch_size, hidden_size)\n",
    "        hidden = torch.randn(2*self.num_layers, batch_size, self.hidden_size)\n",
    "\n",
    "        return hidden\n",
    "    \n",
    "    \n",
    "    \n",
    "    def forward(self, s1, s2, lengths_s1,lengths_s2):\n",
    "        # reset hidden state\n",
    "\n",
    "        batch_size_s1, seq_len_s1 = s1.size()\n",
    "        batch_size_s2, seq_len_s2 = s2.size()\n",
    "\n",
    "        self.hidden_s1 = self.init_hidden(batch_size_s1).to(device)\n",
    "        self.hidden_s2 = self.init_hidden(batch_size_s2).to(device)\n",
    "        \n",
    "        # pack padded sequence\n",
    "        # Compute sorted sequence lengths\n",
    "        _, idx_sort_s1 = torch.sort(lengths_s1, dim=0, descending=True)\n",
    "        _, idx_unsort_s1 = torch.sort(idx_sort_s1, dim=0)\n",
    "        _, idx_sort_s2 = torch.sort(lengths_s2, dim=0, descending=True)\n",
    "        _, idx_unsort_s2 = torch.sort(idx_sort_s2, dim=0)\n",
    "        \n",
    "        lengths_s1 = list(lengths_s1[idx_sort_s1])\n",
    "        lengths_s2 = list(lengths_s2[idx_sort_s2])\n",
    "\n",
    "        # Sort x\n",
    "        rnn_input_s1 = s1.index_select(0, idx_sort_s1)\n",
    "        rnn_input_s2 = s2.index_select(0, idx_sort_s2)\n",
    "        \n",
    "        # get embedding of characters\n",
    "        embed_s1 = self.embedding(rnn_input_s1)\n",
    "        embed_s2 = self.embedding(rnn_input_s2)\n",
    "        \n",
    "        embed_s1 = torch.nn.utils.rnn.pack_padded_sequence(embed_s1, lengths_s1, batch_first=True)\n",
    "        embed_s2 = torch.nn.utils.rnn.pack_padded_sequence(embed_s2, lengths_s2, batch_first=True)\n",
    "        \n",
    "        # fprop though RNN\n",
    "        rnn_out_s1, self.hidden_s1 = self.rnn(embed_s1, self.hidden_s1)\n",
    "        rnn_out_s2, self.hidden_s2 = self.rnn(embed_s2, self.hidden_s2)\n",
    "        \n",
    "        hn_s1 = torch.sum(self.hidden_s1, dim=0)\n",
    "        hn_s2 = torch.sum(self.hidden_s2, dim=0)\n",
    "        #hn_s1 = self.hidden_s1\n",
    "        #hn_s2 = self.hidden_s2\n",
    "        \n",
    "        #unsort\n",
    "        \n",
    "        output_s1 = torch.index_select(hn_s1,0, idx_unsort_s1)\n",
    "        output_s2 = torch.index_select(hn_s2,0, idx_unsort_s2)\n",
    "        \n",
    "        #concat\n",
    "        if self.element_mul == True:\n",
    "            rep = output_s1*output_s2\n",
    "        else:\n",
    "            rep = torch.cat((output_s1, output_s2), 1)\n",
    "        #rep = torch.cat((output_s1, output_s2), 2)\n",
    "        \n",
    "        #FC layers\n",
    "        res = self.fc(rep)\n",
    "        \n",
    "        \n",
    "        return res\n",
    "    \n",
    "    \n",
    "    "
   ]
  },
  {
   "cell_type": "markdown",
   "metadata": {},
   "source": [
    "### CNN"
   ]
  },
  {
   "cell_type": "code",
   "execution_count": 10,
   "metadata": {
    "collapsed": true
   },
   "outputs": [],
   "source": [
    "class CNN(nn.Module):\n",
    "    def __init__(self, weight,emb_size, hidden_size, kernel_size, num_classes):\n",
    "\n",
    "        super(CNN, self).__init__()\n",
    "\n",
    "        self.kernel_size, self.hidden_size = kernel_size, hidden_size\n",
    "        self.embedding = nn.Embedding.from_pretrained(torch.Tensor(weight), freeze = True).float()\n",
    "    \n",
    "        self.conv1 = nn.Conv1d(emb_size, hidden_size, kernel_size=self.kernel_size, padding=1)\n",
    "        self.conv2 = nn.Conv1d(hidden_size, hidden_size, kernel_size=self.kernel_size, padding=1)\n",
    "\n",
    "        self.fc = nn.Sequential(\n",
    "            nn.Linear(2*hidden_size, hidden_size), \n",
    "            nn.ReLU(inplace=True), \n",
    "            nn.Linear(hidden_size, num_classes))\n",
    "\n",
    "    def forward(self, s1, s2, lengths_s1, lengths_s2):\n",
    "        batch_size_s1, seq_len_s1 = s1.size()\n",
    "        batch_size_s2, seq_len_s2 = s2.size()\n",
    "        \n",
    "        embed_s1 = self.embedding(s1).to(device)\n",
    "        embed_s2 = self.embedding(s2).to(device)\n",
    "       \n",
    "        hidden_s1 = self.conv1(embed_s1.transpose(1,2)).transpose(1,2)\n",
    "        hidden_s2 = self.conv1(embed_s2.transpose(1,2)).transpose(1,2)\n",
    "        \n",
    "        #hidden = F.relu(hidden.contiguous().view(-1, hidden.size(-1))).view(batch_size, seq_len, hidden.size(-1))\n",
    "        #hidden = F.relu(hidden.contiguous().view(-1, hidden.size(-1))).view(batch_size, hidden.size(1), hidden.size(-1))\n",
    "        \n",
    "        hidden_s1 = F.relu(hidden_s1.contiguous().view(-1, hidden_s1.size(-1))).view(batch_size_s1, hidden_s1.size(1), hidden_s1.size(-1))\n",
    "        hidden_s2 = F.relu(hidden_s2.contiguous().view(-1, hidden_s2.size(-1))).view(batch_size_s2, hidden_s2.size(1), hidden_s2.size(-1))\n",
    "       \n",
    "        hidden_s1 = self.conv2(hidden_s1.transpose(1,2)).transpose(1,2)\n",
    "        hidden_s2 = self.conv2(hidden_s2.transpose(1,2)).transpose(1,2)\n",
    "        \n",
    "        hidden_s1 = F.relu(hidden_s1.contiguous().view(-1, hidden_s1.size(-1))).view(batch_size_s1, hidden_s1.size(1), hidden_s1.size(-1))\n",
    "        hidden_s2 = F.relu(hidden_s2.contiguous().view(-1, hidden_s2.size(-1))).view(batch_size_s2, hidden_s2.size(1), hidden_s2.size(-1))\n",
    "       \n",
    "        hidden_s1,hidden_s1_idx = torch.max(hidden_s1, dim=1)\n",
    "        \n",
    "        hidden_s2,hidden_s2_idx = torch.max(hidden_s2, dim=1)\n",
    "        \n",
    "        rep = torch.cat([hidden_s1, hidden_s2], 1)\n",
    "        output = self.fc(rep)\n",
    "        \n",
    "        \n",
    "        return output"
   ]
  },
  {
   "cell_type": "code",
   "execution_count": 87,
   "metadata": {
    "collapsed": true
   },
   "outputs": [],
   "source": [
    "\n",
    "def test_model(loader, model):\n",
    "    \"\"\"\n",
    "    Help function that tests the model's performance on a dataset\n",
    "    @param: loader - data loader for the dataset to test against\n",
    "    \"\"\"\n",
    "    correct = 0\n",
    "    total = 0\n",
    "    model.eval()\n",
    "    for data_s1, data_s2, lengths_s1,lengths_s2, labels in loader:\n",
    "        data_batch_s1, data_batch_s2, lengths_batch_s1,lengths_batch_s2, label_batch = data_s1.to(device), data_s2.to(device), lengths_s1.to(device),lengths_s2.to(device), labels.to(device)\n",
    "        outputs = F.softmax(model(data_batch_s1, data_batch_s2, lengths_batch_s1,lengths_batch_s2), dim=1)\n",
    "        predicted = outputs.max(1, keepdim=True)[1]\n",
    "\n",
    "        total += labels.size(0)\n",
    "        correct += predicted.eq(label_batch.view_as(predicted)).sum().item()\n",
    "    return (100 * correct / total)\n",
    "\n"
   ]
  },
  {
   "cell_type": "code",
   "execution_count": 39,
   "metadata": {
    "collapsed": true
   },
   "outputs": [],
   "source": [
    "from torch.autograd import Variable\n",
    "torch.backends.cudnn.enabled=False\n"
   ]
  },
  {
   "cell_type": "markdown",
   "metadata": {},
   "source": [
    "RNN: \n",
    "\n",
    "rnn0:default lr = 5e-4, hs = 200\n",
    "\n",
    "rnn1: hs = 300\n",
    "\n",
    "rnn2: hs = 400\n",
    "\n",
    "rnn3: hs = 100\n",
    "\n",
    "rnn4: hs = 400, element mul\n",
    "\n",
    "rnn5: hs = 600, concat"
   ]
  },
  {
   "cell_type": "markdown",
   "metadata": {},
   "source": [
    "### Run RNN"
   ]
  },
  {
   "cell_type": "code",
   "execution_count": 34,
   "metadata": {
    "collapsed": true
   },
   "outputs": [],
   "source": [
    "\n",
    "def train_rnn(hs,model_name,element_mul = False):\n",
    "    best_acc = 0\n",
    "    model = RNN(weight = loaded_embeddings_ft,\n",
    "                emb_size= 300, \n",
    "                hidden_size=hs, \n",
    "                num_layers=1, \n",
    "                num_classes =3,\n",
    "                element_mul = element_mul).to(device)\n",
    "\n",
    "    learning_rate = 5e-4\n",
    "    num_epochs = 10 # number epoch to train\n",
    "\n",
    "    # Criterion and Optimizer\n",
    "    criterion = torch.nn.CrossEntropyLoss()\n",
    "    optimizer = torch.optim.Adam(model.parameters(), lr=learning_rate)\n",
    "\n",
    "\n",
    "    # Train the model for s1\n",
    "    total_step = len(train_loader)\n",
    "\n",
    "    val_acc_list_rnn0 = []\n",
    "    train_loss_rnn0 = []\n",
    "    train_acc_list_rnn0 = []\n",
    "\n",
    "    for epoch in range(num_epochs):\n",
    "        for i, (data_s1, data_s2,lengths_s1, lengths_s2, labels) in enumerate(train_loader):\n",
    "            data_s1 = data_s1.to(device)\n",
    "            data_s2 = data_s2.to(device)\n",
    "            lengths_s1 = lengths_s1.to(device)\n",
    "            lengths_s2 = lengths_s2.to(device)\n",
    "            labels = labels.to(device)\n",
    "            model.train()\n",
    "            optimizer.zero_grad()\n",
    "\n",
    "            # Forward pass\n",
    "            outputs = model(data_s1, data_s2, lengths_s1,lengths_s2)\n",
    "            loss = criterion(outputs, labels)\n",
    "            train_loss_rnn0.append(loss)\n",
    "\n",
    "            # Backward and optimize\n",
    "            loss.backward()\n",
    "            optimizer.step()\n",
    "\n",
    "            # validate every 100 iterations\n",
    "            if i > 0 and i % 500 == 0:\n",
    "                # validate\n",
    "                val_acc = test_model(val_loader, model)\n",
    "                train_acc_list_rnn0.append(test_model(train_loader, model))\n",
    "                val_acc_list_rnn0.append(val_acc)\n",
    "                if val_acc > best_acc:\n",
    "                    best_acc = val_acc\n",
    "                    torch.save(model.state_dict(), model_name+'.pth')\n",
    "                print('Epoch: [{}/{}], Step: [{}/{}], Validation Acc: {}'.format(\n",
    "                           epoch+1, num_epochs, i+1, len(train_loader), val_acc))\n",
    "    return train_acc_list_rnn0,val_acc_list_rnn0,train_loss_rnn0\n",
    "        "
   ]
  },
  {
   "cell_type": "code",
   "execution_count": 40,
   "metadata": {},
   "outputs": [
    {
     "name": "stdout",
     "output_type": "stream",
     "text": [
      "Epoch: [1/10], Step: [501/3125], Validation Acc: 56.6\n",
      "Epoch: [1/10], Step: [1001/3125], Validation Acc: 58.7\n",
      "Epoch: [1/10], Step: [1501/3125], Validation Acc: 59.6\n",
      "Epoch: [1/10], Step: [2001/3125], Validation Acc: 59.6\n",
      "Epoch: [1/10], Step: [2501/3125], Validation Acc: 60.2\n",
      "Epoch: [1/10], Step: [3001/3125], Validation Acc: 61.4\n",
      "Epoch: [2/10], Step: [501/3125], Validation Acc: 64.5\n",
      "Epoch: [2/10], Step: [1001/3125], Validation Acc: 65.1\n",
      "Epoch: [2/10], Step: [1501/3125], Validation Acc: 65.9\n",
      "Epoch: [2/10], Step: [2001/3125], Validation Acc: 67.0\n",
      "Epoch: [2/10], Step: [2501/3125], Validation Acc: 66.3\n",
      "Epoch: [2/10], Step: [3001/3125], Validation Acc: 65.5\n",
      "Epoch: [3/10], Step: [501/3125], Validation Acc: 66.7\n",
      "Epoch: [3/10], Step: [1001/3125], Validation Acc: 66.9\n",
      "Epoch: [3/10], Step: [1501/3125], Validation Acc: 68.1\n",
      "Epoch: [3/10], Step: [2001/3125], Validation Acc: 67.2\n",
      "Epoch: [3/10], Step: [2501/3125], Validation Acc: 66.1\n",
      "Epoch: [3/10], Step: [3001/3125], Validation Acc: 66.9\n",
      "Epoch: [4/10], Step: [501/3125], Validation Acc: 67.6\n",
      "Epoch: [4/10], Step: [1001/3125], Validation Acc: 68.6\n",
      "Epoch: [4/10], Step: [1501/3125], Validation Acc: 69.7\n",
      "Epoch: [4/10], Step: [2001/3125], Validation Acc: 69.3\n",
      "Epoch: [4/10], Step: [2501/3125], Validation Acc: 70.5\n",
      "Epoch: [4/10], Step: [3001/3125], Validation Acc: 69.3\n",
      "Epoch: [5/10], Step: [501/3125], Validation Acc: 70.5\n",
      "Epoch: [5/10], Step: [1001/3125], Validation Acc: 68.5\n",
      "Epoch: [5/10], Step: [1501/3125], Validation Acc: 69.2\n",
      "Epoch: [5/10], Step: [2001/3125], Validation Acc: 68.7\n",
      "Epoch: [5/10], Step: [2501/3125], Validation Acc: 70.5\n",
      "Epoch: [5/10], Step: [3001/3125], Validation Acc: 69.3\n",
      "Epoch: [6/10], Step: [501/3125], Validation Acc: 70.0\n",
      "Epoch: [6/10], Step: [1001/3125], Validation Acc: 70.6\n",
      "Epoch: [6/10], Step: [1501/3125], Validation Acc: 70.4\n",
      "Epoch: [6/10], Step: [2001/3125], Validation Acc: 71.0\n",
      "Epoch: [6/10], Step: [2501/3125], Validation Acc: 69.9\n",
      "Epoch: [6/10], Step: [3001/3125], Validation Acc: 69.6\n",
      "Epoch: [7/10], Step: [501/3125], Validation Acc: 70.2\n",
      "Epoch: [7/10], Step: [1001/3125], Validation Acc: 69.8\n",
      "Epoch: [7/10], Step: [1501/3125], Validation Acc: 69.8\n",
      "Epoch: [7/10], Step: [2001/3125], Validation Acc: 72.5\n",
      "Epoch: [7/10], Step: [2501/3125], Validation Acc: 70.3\n",
      "Epoch: [7/10], Step: [3001/3125], Validation Acc: 70.9\n",
      "Epoch: [8/10], Step: [501/3125], Validation Acc: 69.4\n",
      "Epoch: [8/10], Step: [1001/3125], Validation Acc: 69.7\n",
      "Epoch: [8/10], Step: [1501/3125], Validation Acc: 70.5\n",
      "Epoch: [8/10], Step: [2001/3125], Validation Acc: 70.0\n",
      "Epoch: [8/10], Step: [2501/3125], Validation Acc: 70.2\n",
      "Epoch: [8/10], Step: [3001/3125], Validation Acc: 70.9\n",
      "Epoch: [9/10], Step: [501/3125], Validation Acc: 70.2\n",
      "Epoch: [9/10], Step: [1001/3125], Validation Acc: 70.0\n",
      "Epoch: [9/10], Step: [1501/3125], Validation Acc: 70.3\n",
      "Epoch: [9/10], Step: [2001/3125], Validation Acc: 70.8\n",
      "Epoch: [9/10], Step: [2501/3125], Validation Acc: 70.5\n",
      "Epoch: [9/10], Step: [3001/3125], Validation Acc: 71.4\n",
      "Epoch: [10/10], Step: [501/3125], Validation Acc: 71.4\n",
      "Epoch: [10/10], Step: [1001/3125], Validation Acc: 70.7\n",
      "Epoch: [10/10], Step: [1501/3125], Validation Acc: 72.3\n",
      "Epoch: [10/10], Step: [2001/3125], Validation Acc: 70.0\n",
      "Epoch: [10/10], Step: [2501/3125], Validation Acc: 70.4\n",
      "Epoch: [10/10], Step: [3001/3125], Validation Acc: 70.4\n"
     ]
    }
   ],
   "source": [
    "train_acc_list_rnn1,val_acc_list_rnn1,train_loss_rnn1 = train_rnn(300,'rnn_hs_300')\n",
    "with open('val_acc_list_rnn1', 'wb') as f:\n",
    "     pickle.dump( val_acc_list_rnn1, f)\n",
    "with open('train_acc_list_rnn1', 'wb') as f:\n",
    "     pickle.dump(train_acc_list_rnn1, f)\n",
    "with open('train_loss_rnn1', 'wb') as f:\n",
    "     pickle.dump(train_loss_rnn1, f)"
   ]
  },
  {
   "cell_type": "code",
   "execution_count": 41,
   "metadata": {},
   "outputs": [
    {
     "name": "stdout",
     "output_type": "stream",
     "text": [
      "Epoch: [1/10], Step: [501/3125], Validation Acc: 56.1\n",
      "Epoch: [1/10], Step: [1001/3125], Validation Acc: 57.3\n",
      "Epoch: [1/10], Step: [1501/3125], Validation Acc: 60.8\n",
      "Epoch: [1/10], Step: [2001/3125], Validation Acc: 60.6\n",
      "Epoch: [1/10], Step: [2501/3125], Validation Acc: 60.7\n",
      "Epoch: [1/10], Step: [3001/3125], Validation Acc: 64.0\n",
      "Epoch: [2/10], Step: [501/3125], Validation Acc: 63.4\n",
      "Epoch: [2/10], Step: [1001/3125], Validation Acc: 65.8\n",
      "Epoch: [2/10], Step: [1501/3125], Validation Acc: 65.5\n",
      "Epoch: [2/10], Step: [2001/3125], Validation Acc: 65.3\n",
      "Epoch: [2/10], Step: [2501/3125], Validation Acc: 64.9\n",
      "Epoch: [2/10], Step: [3001/3125], Validation Acc: 66.1\n",
      "Epoch: [3/10], Step: [501/3125], Validation Acc: 66.2\n",
      "Epoch: [3/10], Step: [1001/3125], Validation Acc: 65.9\n",
      "Epoch: [3/10], Step: [1501/3125], Validation Acc: 67.3\n",
      "Epoch: [3/10], Step: [2001/3125], Validation Acc: 67.2\n",
      "Epoch: [3/10], Step: [2501/3125], Validation Acc: 69.0\n",
      "Epoch: [3/10], Step: [3001/3125], Validation Acc: 67.1\n",
      "Epoch: [4/10], Step: [501/3125], Validation Acc: 69.3\n",
      "Epoch: [4/10], Step: [1001/3125], Validation Acc: 69.1\n",
      "Epoch: [4/10], Step: [1501/3125], Validation Acc: 69.4\n",
      "Epoch: [4/10], Step: [2001/3125], Validation Acc: 68.9\n",
      "Epoch: [4/10], Step: [2501/3125], Validation Acc: 69.5\n",
      "Epoch: [4/10], Step: [3001/3125], Validation Acc: 70.1\n",
      "Epoch: [5/10], Step: [501/3125], Validation Acc: 70.2\n",
      "Epoch: [5/10], Step: [1001/3125], Validation Acc: 71.1\n",
      "Epoch: [5/10], Step: [1501/3125], Validation Acc: 68.8\n",
      "Epoch: [5/10], Step: [2001/3125], Validation Acc: 69.8\n",
      "Epoch: [5/10], Step: [2501/3125], Validation Acc: 70.3\n",
      "Epoch: [5/10], Step: [3001/3125], Validation Acc: 70.6\n",
      "Epoch: [6/10], Step: [501/3125], Validation Acc: 71.3\n",
      "Epoch: [6/10], Step: [1001/3125], Validation Acc: 71.4\n",
      "Epoch: [6/10], Step: [1501/3125], Validation Acc: 70.8\n",
      "Epoch: [6/10], Step: [2001/3125], Validation Acc: 71.6\n",
      "Epoch: [6/10], Step: [2501/3125], Validation Acc: 70.1\n",
      "Epoch: [6/10], Step: [3001/3125], Validation Acc: 71.5\n",
      "Epoch: [7/10], Step: [501/3125], Validation Acc: 71.6\n",
      "Epoch: [7/10], Step: [1001/3125], Validation Acc: 71.4\n",
      "Epoch: [7/10], Step: [1501/3125], Validation Acc: 73.0\n",
      "Epoch: [7/10], Step: [2001/3125], Validation Acc: 71.6\n",
      "Epoch: [7/10], Step: [2501/3125], Validation Acc: 71.0\n",
      "Epoch: [7/10], Step: [3001/3125], Validation Acc: 71.8\n",
      "Epoch: [8/10], Step: [501/3125], Validation Acc: 71.0\n",
      "Epoch: [8/10], Step: [1001/3125], Validation Acc: 71.7\n",
      "Epoch: [8/10], Step: [1501/3125], Validation Acc: 71.7\n",
      "Epoch: [8/10], Step: [2001/3125], Validation Acc: 70.9\n",
      "Epoch: [8/10], Step: [2501/3125], Validation Acc: 72.7\n",
      "Epoch: [8/10], Step: [3001/3125], Validation Acc: 70.6\n",
      "Epoch: [9/10], Step: [501/3125], Validation Acc: 70.3\n",
      "Epoch: [9/10], Step: [1001/3125], Validation Acc: 71.1\n",
      "Epoch: [9/10], Step: [1501/3125], Validation Acc: 71.6\n",
      "Epoch: [9/10], Step: [2001/3125], Validation Acc: 70.6\n",
      "Epoch: [9/10], Step: [2501/3125], Validation Acc: 71.8\n",
      "Epoch: [9/10], Step: [3001/3125], Validation Acc: 71.5\n",
      "Epoch: [10/10], Step: [501/3125], Validation Acc: 70.0\n",
      "Epoch: [10/10], Step: [1001/3125], Validation Acc: 71.0\n",
      "Epoch: [10/10], Step: [1501/3125], Validation Acc: 71.1\n",
      "Epoch: [10/10], Step: [2001/3125], Validation Acc: 69.8\n",
      "Epoch: [10/10], Step: [2501/3125], Validation Acc: 72.1\n",
      "Epoch: [10/10], Step: [3001/3125], Validation Acc: 71.5\n"
     ]
    }
   ],
   "source": [
    "train_acc_list_rnn2,val_acc_list_rnn2,train_loss_rnn2 = train_rnn(400,'rnn_hs_400')\n",
    "with open('val_acc_list_rnn2', 'wb') as f:\n",
    "     pickle.dump( val_acc_list_rnn2, f)\n",
    "with open('train_acc_list_rnn2', 'wb') as f:\n",
    "     pickle.dump(train_acc_list_rnn2, f)\n",
    "with open('train_loss_rnn2', 'wb') as f:\n",
    "     pickle.dump(train_loss_rnn2, f)"
   ]
  },
  {
   "cell_type": "code",
   "execution_count": 42,
   "metadata": {},
   "outputs": [
    {
     "name": "stdout",
     "output_type": "stream",
     "text": [
      "Epoch: [1/10], Step: [501/3125], Validation Acc: 56.8\n",
      "Epoch: [1/10], Step: [1001/3125], Validation Acc: 58.1\n",
      "Epoch: [1/10], Step: [1501/3125], Validation Acc: 61.1\n",
      "Epoch: [1/10], Step: [2001/3125], Validation Acc: 59.2\n",
      "Epoch: [1/10], Step: [2501/3125], Validation Acc: 60.4\n",
      "Epoch: [1/10], Step: [3001/3125], Validation Acc: 60.2\n",
      "Epoch: [2/10], Step: [501/3125], Validation Acc: 61.7\n",
      "Epoch: [2/10], Step: [1001/3125], Validation Acc: 62.9\n",
      "Epoch: [2/10], Step: [1501/3125], Validation Acc: 62.8\n",
      "Epoch: [2/10], Step: [2001/3125], Validation Acc: 64.4\n",
      "Epoch: [2/10], Step: [2501/3125], Validation Acc: 65.0\n",
      "Epoch: [2/10], Step: [3001/3125], Validation Acc: 64.8\n",
      "Epoch: [3/10], Step: [501/3125], Validation Acc: 66.8\n",
      "Epoch: [3/10], Step: [1001/3125], Validation Acc: 66.5\n",
      "Epoch: [3/10], Step: [1501/3125], Validation Acc: 64.3\n",
      "Epoch: [3/10], Step: [2001/3125], Validation Acc: 66.5\n",
      "Epoch: [3/10], Step: [2501/3125], Validation Acc: 67.7\n",
      "Epoch: [3/10], Step: [3001/3125], Validation Acc: 65.7\n",
      "Epoch: [4/10], Step: [501/3125], Validation Acc: 66.6\n",
      "Epoch: [4/10], Step: [1001/3125], Validation Acc: 66.8\n",
      "Epoch: [4/10], Step: [1501/3125], Validation Acc: 67.3\n",
      "Epoch: [4/10], Step: [2001/3125], Validation Acc: 67.6\n",
      "Epoch: [4/10], Step: [2501/3125], Validation Acc: 67.8\n",
      "Epoch: [4/10], Step: [3001/3125], Validation Acc: 69.0\n",
      "Epoch: [5/10], Step: [501/3125], Validation Acc: 69.4\n",
      "Epoch: [5/10], Step: [1001/3125], Validation Acc: 67.1\n",
      "Epoch: [5/10], Step: [1501/3125], Validation Acc: 68.8\n",
      "Epoch: [5/10], Step: [2001/3125], Validation Acc: 69.5\n",
      "Epoch: [5/10], Step: [2501/3125], Validation Acc: 69.6\n",
      "Epoch: [5/10], Step: [3001/3125], Validation Acc: 67.3\n",
      "Epoch: [6/10], Step: [501/3125], Validation Acc: 70.0\n",
      "Epoch: [6/10], Step: [1001/3125], Validation Acc: 69.3\n",
      "Epoch: [6/10], Step: [1501/3125], Validation Acc: 69.0\n",
      "Epoch: [6/10], Step: [2001/3125], Validation Acc: 68.2\n",
      "Epoch: [6/10], Step: [2501/3125], Validation Acc: 70.2\n",
      "Epoch: [6/10], Step: [3001/3125], Validation Acc: 69.7\n",
      "Epoch: [7/10], Step: [501/3125], Validation Acc: 70.2\n",
      "Epoch: [7/10], Step: [1001/3125], Validation Acc: 70.6\n",
      "Epoch: [7/10], Step: [1501/3125], Validation Acc: 70.9\n",
      "Epoch: [7/10], Step: [2001/3125], Validation Acc: 70.6\n",
      "Epoch: [7/10], Step: [2501/3125], Validation Acc: 70.4\n",
      "Epoch: [7/10], Step: [3001/3125], Validation Acc: 71.1\n",
      "Epoch: [8/10], Step: [501/3125], Validation Acc: 71.0\n",
      "Epoch: [8/10], Step: [1001/3125], Validation Acc: 69.5\n",
      "Epoch: [8/10], Step: [1501/3125], Validation Acc: 70.4\n",
      "Epoch: [8/10], Step: [2001/3125], Validation Acc: 72.0\n",
      "Epoch: [8/10], Step: [2501/3125], Validation Acc: 71.7\n",
      "Epoch: [8/10], Step: [3001/3125], Validation Acc: 72.1\n",
      "Epoch: [9/10], Step: [501/3125], Validation Acc: 71.3\n",
      "Epoch: [9/10], Step: [1001/3125], Validation Acc: 71.6\n",
      "Epoch: [9/10], Step: [1501/3125], Validation Acc: 70.6\n",
      "Epoch: [9/10], Step: [2001/3125], Validation Acc: 72.3\n",
      "Epoch: [9/10], Step: [2501/3125], Validation Acc: 72.5\n",
      "Epoch: [9/10], Step: [3001/3125], Validation Acc: 71.8\n",
      "Epoch: [10/10], Step: [501/3125], Validation Acc: 71.0\n",
      "Epoch: [10/10], Step: [1001/3125], Validation Acc: 72.4\n",
      "Epoch: [10/10], Step: [1501/3125], Validation Acc: 72.5\n",
      "Epoch: [10/10], Step: [2001/3125], Validation Acc: 71.8\n",
      "Epoch: [10/10], Step: [2501/3125], Validation Acc: 72.1\n",
      "Epoch: [10/10], Step: [3001/3125], Validation Acc: 71.9\n"
     ]
    }
   ],
   "source": [
    "train_acc_list_rnn3,val_acc_list_rnn3,train_loss_rnn3 = train_rnn(100,'rnn_hs_100')\n",
    "with open('val_acc_list_rnn3', 'wb') as f:\n",
    "     pickle.dump( val_acc_list_rnn3, f)\n",
    "with open('train_acc_list_rnn3', 'wb') as f:\n",
    "     pickle.dump(train_acc_list_rnn3, f)\n",
    "with open('train_loss_rnn3', 'wb') as f:\n",
    "     pickle.dump(train_loss_rnn3, f)"
   ]
  },
  {
   "cell_type": "code",
   "execution_count": 54,
   "metadata": {},
   "outputs": [
    {
     "name": "stdout",
     "output_type": "stream",
     "text": [
      "Epoch: [1/10], Step: [501/3125], Validation Acc: 49.2\n",
      "Epoch: [1/10], Step: [1001/3125], Validation Acc: 53.7\n",
      "Epoch: [1/10], Step: [1501/3125], Validation Acc: 55.7\n",
      "Epoch: [1/10], Step: [2001/3125], Validation Acc: 56.6\n",
      "Epoch: [1/10], Step: [2501/3125], Validation Acc: 60.6\n",
      "Epoch: [1/10], Step: [3001/3125], Validation Acc: 61.0\n",
      "Epoch: [2/10], Step: [501/3125], Validation Acc: 61.3\n",
      "Epoch: [2/10], Step: [1001/3125], Validation Acc: 62.0\n",
      "Epoch: [2/10], Step: [1501/3125], Validation Acc: 63.8\n",
      "Epoch: [2/10], Step: [2001/3125], Validation Acc: 63.9\n",
      "Epoch: [2/10], Step: [2501/3125], Validation Acc: 66.3\n",
      "Epoch: [2/10], Step: [3001/3125], Validation Acc: 66.6\n",
      "Epoch: [3/10], Step: [501/3125], Validation Acc: 66.7\n",
      "Epoch: [3/10], Step: [1001/3125], Validation Acc: 68.5\n",
      "Epoch: [3/10], Step: [1501/3125], Validation Acc: 65.8\n",
      "Epoch: [3/10], Step: [2001/3125], Validation Acc: 67.4\n",
      "Epoch: [3/10], Step: [2501/3125], Validation Acc: 68.1\n",
      "Epoch: [3/10], Step: [3001/3125], Validation Acc: 68.3\n",
      "Epoch: [4/10], Step: [501/3125], Validation Acc: 68.8\n",
      "Epoch: [4/10], Step: [1001/3125], Validation Acc: 68.8\n",
      "Epoch: [4/10], Step: [1501/3125], Validation Acc: 68.8\n",
      "Epoch: [4/10], Step: [2001/3125], Validation Acc: 68.3\n",
      "Epoch: [4/10], Step: [2501/3125], Validation Acc: 70.0\n",
      "Epoch: [4/10], Step: [3001/3125], Validation Acc: 70.0\n",
      "Epoch: [5/10], Step: [501/3125], Validation Acc: 69.1\n",
      "Epoch: [5/10], Step: [1001/3125], Validation Acc: 68.5\n",
      "Epoch: [5/10], Step: [1501/3125], Validation Acc: 69.7\n",
      "Epoch: [5/10], Step: [2001/3125], Validation Acc: 70.0\n",
      "Epoch: [5/10], Step: [2501/3125], Validation Acc: 70.2\n",
      "Epoch: [5/10], Step: [3001/3125], Validation Acc: 71.2\n",
      "Epoch: [6/10], Step: [501/3125], Validation Acc: 70.2\n",
      "Epoch: [6/10], Step: [1001/3125], Validation Acc: 71.0\n",
      "Epoch: [6/10], Step: [1501/3125], Validation Acc: 68.8\n",
      "Epoch: [6/10], Step: [2001/3125], Validation Acc: 69.3\n",
      "Epoch: [6/10], Step: [2501/3125], Validation Acc: 69.4\n",
      "Epoch: [6/10], Step: [3001/3125], Validation Acc: 70.8\n",
      "Epoch: [7/10], Step: [501/3125], Validation Acc: 68.8\n",
      "Epoch: [7/10], Step: [1001/3125], Validation Acc: 69.5\n",
      "Epoch: [7/10], Step: [1501/3125], Validation Acc: 70.5\n",
      "Epoch: [7/10], Step: [2001/3125], Validation Acc: 69.2\n",
      "Epoch: [7/10], Step: [2501/3125], Validation Acc: 69.3\n",
      "Epoch: [7/10], Step: [3001/3125], Validation Acc: 69.5\n",
      "Epoch: [8/10], Step: [501/3125], Validation Acc: 68.1\n",
      "Epoch: [8/10], Step: [1001/3125], Validation Acc: 68.9\n",
      "Epoch: [8/10], Step: [1501/3125], Validation Acc: 67.8\n",
      "Epoch: [8/10], Step: [2001/3125], Validation Acc: 69.4\n",
      "Epoch: [8/10], Step: [2501/3125], Validation Acc: 68.6\n",
      "Epoch: [8/10], Step: [3001/3125], Validation Acc: 69.0\n",
      "Epoch: [9/10], Step: [501/3125], Validation Acc: 69.2\n",
      "Epoch: [9/10], Step: [1001/3125], Validation Acc: 69.4\n",
      "Epoch: [9/10], Step: [1501/3125], Validation Acc: 68.5\n",
      "Epoch: [9/10], Step: [2001/3125], Validation Acc: 70.5\n",
      "Epoch: [9/10], Step: [2501/3125], Validation Acc: 69.1\n",
      "Epoch: [9/10], Step: [3001/3125], Validation Acc: 70.7\n",
      "Epoch: [10/10], Step: [501/3125], Validation Acc: 69.6\n",
      "Epoch: [10/10], Step: [1001/3125], Validation Acc: 68.8\n",
      "Epoch: [10/10], Step: [1501/3125], Validation Acc: 68.7\n",
      "Epoch: [10/10], Step: [2001/3125], Validation Acc: 68.8\n",
      "Epoch: [10/10], Step: [2501/3125], Validation Acc: 70.1\n",
      "Epoch: [10/10], Step: [3001/3125], Validation Acc: 67.9\n"
     ]
    }
   ],
   "source": [
    "train_acc_list_rnn4,val_acc_list_rnn4,train_loss_rnn4 = train_rnn(400,'rnn_hs_400_emul',True)\n",
    "with open('val_acc_list_rnn4', 'wb') as f:\n",
    "     pickle.dump( val_acc_list_rnn4, f)\n",
    "with open('train_acc_list_rnn4', 'wb') as f:\n",
    "     pickle.dump(train_acc_list_rnn4, f)\n",
    "with open('train_loss_rnn4', 'wb') as f:\n",
    "     pickle.dump(train_loss_rnn4, f)"
   ]
  },
  {
   "cell_type": "code",
   "execution_count": null,
   "metadata": {
    "collapsed": true
   },
   "outputs": [],
   "source": []
  },
  {
   "cell_type": "markdown",
   "metadata": {
    "collapsed": true
   },
   "source": [
    "### Run CNN"
   ]
  },
  {
   "cell_type": "markdown",
   "metadata": {},
   "source": [
    "0: default hs = 200, ks = 3\n",
    "\n",
    "1: hs = 300, ks = 3\n",
    "\n",
    "2: hs = 400, ks = 3\n",
    "\n",
    "3: hs = 100, ks = 3\n",
    "\n",
    "4: hs = 400, ks = 2\n",
    "\n",
    "5: hs = 400, ks = 4\n",
    "\n",
    "6: hs = 400, ks = 1\n"
   ]
  },
  {
   "cell_type": "code",
   "execution_count": 36,
   "metadata": {
    "collapsed": true
   },
   "outputs": [],
   "source": [
    "def train_cnn(hs,ks,model_name):    \n",
    "    best_acc = 0\n",
    "\n",
    "    model = CNN(weight = loaded_embeddings_ft,\n",
    "                emb_size = 300, \n",
    "                hidden_size=hs, \n",
    "                kernel_size=ks, \n",
    "                num_classes =3).to(device)\n",
    "\n",
    "    learning_rate = 5e-4\n",
    "    num_epochs = 10 # number epoch to train\n",
    "\n",
    "    # Criterion and Optimizer\n",
    "    criterion = torch.nn.CrossEntropyLoss()\n",
    "    optimizer = torch.optim.Adam(model.parameters(), lr=learning_rate)\n",
    "\n",
    "\n",
    "    # Train the model for s1\n",
    "    total_step = len(train_loader)\n",
    "\n",
    "    val_acc_list_cnn0 = []\n",
    "    train_loss_cnn0 = []\n",
    "    train_acc_list_cnn0 = []\n",
    "\n",
    "    for epoch in range(num_epochs):\n",
    "        for i, (data_s1, data_s2,lengths_s1, lengths_s2, labels) in enumerate(train_loader):\n",
    "            data_s1 = data_s1.to(device)\n",
    "            data_s2 = data_s2.to(device)\n",
    "            lengths_s1 = lengths_s1.to(device)\n",
    "            lengths_s2 = lengths_s2.to(device)\n",
    "            labels = labels.to(device)\n",
    "            model.train()\n",
    "            optimizer.zero_grad()\n",
    "\n",
    "            # Forward pass\n",
    "            outputs = model(data_s1, data_s2, lengths_s1,lengths_s2)\n",
    "            loss = criterion(outputs, labels)\n",
    "            train_loss_cnn0.append(loss)\n",
    "\n",
    "            # Backward and optimize\n",
    "            loss.backward()\n",
    "            optimizer.step()\n",
    "\n",
    "            # validate every 100 iterations\n",
    "            if i > 0 and i % 500 == 0:\n",
    "                # validate\n",
    "                val_acc = test_model(val_loader, model)\n",
    "                train_acc = test_model(train_loader, model)\n",
    "                train_acc_list_cnn0.append(train_acc)\n",
    "                val_acc_list_cnn0.append(val_acc)\n",
    "                if val_acc > best_acc:\n",
    "                    best_acc = val_acc\n",
    "                    torch.save(model.state_dict(), model_name+'.pth''.pth')\n",
    "                print('Epoch: [{}/{}], Step: [{}/{}], Train Loss: {}, Validation Acc: {}'.format(\n",
    "                           epoch+1, num_epochs, i+1, len(train_loader), loss, val_acc))\n",
    "    return train_acc_list_cnn0,val_acc_list_cnn0,train_loss_cnn0\n"
   ]
  },
  {
   "cell_type": "code",
   "execution_count": 14,
   "metadata": {},
   "outputs": [
    {
     "name": "stdout",
     "output_type": "stream",
     "text": [
      "Epoch: [1/10], Step: [501/3125], Train Loss: 0.9951513409614563, Validation Acc: 51.2\n",
      "Epoch: [1/10], Step: [1001/3125], Train Loss: 0.9449820518493652, Validation Acc: 55.7\n",
      "Epoch: [1/10], Step: [1501/3125], Train Loss: 0.9515377879142761, Validation Acc: 58.0\n",
      "Epoch: [1/10], Step: [2001/3125], Train Loss: 0.983363151550293, Validation Acc: 59.0\n",
      "Epoch: [1/10], Step: [2501/3125], Train Loss: 0.6476821899414062, Validation Acc: 63.0\n",
      "Epoch: [1/10], Step: [3001/3125], Train Loss: 0.800731897354126, Validation Acc: 61.2\n",
      "Epoch: [2/10], Step: [501/3125], Train Loss: 1.0268878936767578, Validation Acc: 61.2\n",
      "Epoch: [2/10], Step: [1001/3125], Train Loss: 0.8809987902641296, Validation Acc: 60.2\n",
      "Epoch: [2/10], Step: [1501/3125], Train Loss: 0.7096453905105591, Validation Acc: 61.7\n",
      "Epoch: [2/10], Step: [2001/3125], Train Loss: 0.8559984564781189, Validation Acc: 60.7\n",
      "Epoch: [2/10], Step: [2501/3125], Train Loss: 1.0098320245742798, Validation Acc: 62.1\n",
      "Epoch: [2/10], Step: [3001/3125], Train Loss: 0.7405572533607483, Validation Acc: 62.2\n",
      "Epoch: [3/10], Step: [501/3125], Train Loss: 0.8359099626541138, Validation Acc: 63.1\n",
      "Epoch: [3/10], Step: [1001/3125], Train Loss: 0.8071747422218323, Validation Acc: 63.6\n",
      "Epoch: [3/10], Step: [1501/3125], Train Loss: 0.9257749915122986, Validation Acc: 63.0\n",
      "Epoch: [3/10], Step: [2001/3125], Train Loss: 0.5780601501464844, Validation Acc: 64.5\n",
      "Epoch: [3/10], Step: [2501/3125], Train Loss: 0.9545062184333801, Validation Acc: 64.5\n",
      "Epoch: [3/10], Step: [3001/3125], Train Loss: 0.7636542320251465, Validation Acc: 64.3\n",
      "Epoch: [4/10], Step: [501/3125], Train Loss: 0.969144344329834, Validation Acc: 64.3\n",
      "Epoch: [4/10], Step: [1001/3125], Train Loss: 0.6190600395202637, Validation Acc: 65.3\n",
      "Epoch: [4/10], Step: [1501/3125], Train Loss: 0.8063100576400757, Validation Acc: 66.2\n",
      "Epoch: [4/10], Step: [2001/3125], Train Loss: 0.6698011159896851, Validation Acc: 65.4\n",
      "Epoch: [4/10], Step: [2501/3125], Train Loss: 0.8890730142593384, Validation Acc: 65.0\n",
      "Epoch: [4/10], Step: [3001/3125], Train Loss: 0.6710380911827087, Validation Acc: 66.8\n",
      "Epoch: [5/10], Step: [501/3125], Train Loss: 0.5365268588066101, Validation Acc: 67.1\n",
      "Epoch: [5/10], Step: [1001/3125], Train Loss: 0.6826430559158325, Validation Acc: 66.8\n",
      "Epoch: [5/10], Step: [1501/3125], Train Loss: 0.8498837351799011, Validation Acc: 64.9\n",
      "Epoch: [5/10], Step: [2001/3125], Train Loss: 0.580371618270874, Validation Acc: 68.0\n",
      "Epoch: [5/10], Step: [2501/3125], Train Loss: 0.6960301995277405, Validation Acc: 67.0\n",
      "Epoch: [5/10], Step: [3001/3125], Train Loss: 0.7490397095680237, Validation Acc: 67.0\n",
      "Epoch: [6/10], Step: [501/3125], Train Loss: 0.3945041000843048, Validation Acc: 67.8\n",
      "Epoch: [6/10], Step: [1001/3125], Train Loss: 0.8749263286590576, Validation Acc: 66.9\n",
      "Epoch: [6/10], Step: [1501/3125], Train Loss: 0.7817011475563049, Validation Acc: 68.9\n",
      "Epoch: [6/10], Step: [2001/3125], Train Loss: 0.75871741771698, Validation Acc: 67.6\n",
      "Epoch: [6/10], Step: [2501/3125], Train Loss: 0.6429362893104553, Validation Acc: 67.5\n",
      "Epoch: [6/10], Step: [3001/3125], Train Loss: 0.4655205309391022, Validation Acc: 68.7\n",
      "Epoch: [7/10], Step: [501/3125], Train Loss: 0.3667798936367035, Validation Acc: 69.3\n",
      "Epoch: [7/10], Step: [1001/3125], Train Loss: 0.5768008828163147, Validation Acc: 67.6\n",
      "Epoch: [7/10], Step: [1501/3125], Train Loss: 0.6372584700584412, Validation Acc: 68.3\n",
      "Epoch: [7/10], Step: [2001/3125], Train Loss: 0.48581981658935547, Validation Acc: 69.0\n",
      "Epoch: [7/10], Step: [2501/3125], Train Loss: 0.7881183624267578, Validation Acc: 69.0\n",
      "Epoch: [7/10], Step: [3001/3125], Train Loss: 0.5450041890144348, Validation Acc: 68.5\n",
      "Epoch: [8/10], Step: [501/3125], Train Loss: 0.6367806792259216, Validation Acc: 68.7\n",
      "Epoch: [8/10], Step: [1001/3125], Train Loss: 0.4790360927581787, Validation Acc: 68.9\n",
      "Epoch: [8/10], Step: [1501/3125], Train Loss: 0.48795491456985474, Validation Acc: 66.7\n",
      "Epoch: [8/10], Step: [2001/3125], Train Loss: 0.6008897423744202, Validation Acc: 67.3\n",
      "Epoch: [8/10], Step: [2501/3125], Train Loss: 0.4761560261249542, Validation Acc: 67.6\n",
      "Epoch: [8/10], Step: [3001/3125], Train Loss: 0.34639501571655273, Validation Acc: 69.2\n",
      "Epoch: [9/10], Step: [501/3125], Train Loss: 0.21381017565727234, Validation Acc: 68.2\n",
      "Epoch: [9/10], Step: [1001/3125], Train Loss: 0.39882412552833557, Validation Acc: 69.1\n",
      "Epoch: [9/10], Step: [1501/3125], Train Loss: 0.44269639253616333, Validation Acc: 68.2\n",
      "Epoch: [9/10], Step: [2001/3125], Train Loss: 0.49955323338508606, Validation Acc: 69.1\n",
      "Epoch: [9/10], Step: [2501/3125], Train Loss: 0.5278868675231934, Validation Acc: 67.6\n",
      "Epoch: [9/10], Step: [3001/3125], Train Loss: 0.4331763982772827, Validation Acc: 68.0\n",
      "Epoch: [10/10], Step: [501/3125], Train Loss: 0.5252808332443237, Validation Acc: 66.0\n",
      "Epoch: [10/10], Step: [1001/3125], Train Loss: 0.26116523146629333, Validation Acc: 68.0\n",
      "Epoch: [10/10], Step: [1501/3125], Train Loss: 0.45788270235061646, Validation Acc: 67.6\n",
      "Epoch: [10/10], Step: [2001/3125], Train Loss: 0.7653772830963135, Validation Acc: 67.0\n",
      "Epoch: [10/10], Step: [2501/3125], Train Loss: 0.1384073793888092, Validation Acc: 67.5\n",
      "Epoch: [10/10], Step: [3001/3125], Train Loss: 0.40170609951019287, Validation Acc: 66.7\n"
     ]
    },
    {
     "ename": "NameError",
     "evalue": "name 'pickle' is not defined",
     "output_type": "error",
     "traceback": [
      "\u001b[0;31m---------------------------------------------------------------------------\u001b[0m",
      "\u001b[0;31mNameError\u001b[0m                                 Traceback (most recent call last)",
      "\u001b[0;32m<ipython-input-14-68a7bfa27d0e>\u001b[0m in \u001b[0;36m<module>\u001b[0;34m\u001b[0m\n\u001b[1;32m      1\u001b[0m \u001b[0mtrain_acc_list_cnn1\u001b[0m\u001b[0;34m,\u001b[0m\u001b[0mval_acc_list_cnn1\u001b[0m\u001b[0;34m,\u001b[0m\u001b[0mtrain_loss_cnn1\u001b[0m \u001b[0;34m=\u001b[0m \u001b[0mtrain_cnn\u001b[0m\u001b[0;34m(\u001b[0m\u001b[0;36m300\u001b[0m\u001b[0;34m,\u001b[0m\u001b[0;36m3\u001b[0m\u001b[0;34m,\u001b[0m\u001b[0;34m'cnn_hs_300_ks_3'\u001b[0m\u001b[0;34m)\u001b[0m\u001b[0;34m\u001b[0m\u001b[0m\n\u001b[1;32m      2\u001b[0m \u001b[0;32mwith\u001b[0m \u001b[0mopen\u001b[0m\u001b[0;34m(\u001b[0m\u001b[0;34m'val_acc_list_cnn1'\u001b[0m\u001b[0;34m,\u001b[0m \u001b[0;34m'wb'\u001b[0m\u001b[0;34m)\u001b[0m \u001b[0;32mas\u001b[0m \u001b[0mf\u001b[0m\u001b[0;34m:\u001b[0m\u001b[0;34m\u001b[0m\u001b[0m\n\u001b[0;32m----> 3\u001b[0;31m      \u001b[0mpickle\u001b[0m\u001b[0;34m.\u001b[0m\u001b[0mdump\u001b[0m\u001b[0;34m(\u001b[0m \u001b[0mval_acc_list_cnn1\u001b[0m\u001b[0;34m,\u001b[0m \u001b[0mf\u001b[0m\u001b[0;34m)\u001b[0m\u001b[0;34m\u001b[0m\u001b[0m\n\u001b[0m\u001b[1;32m      4\u001b[0m \u001b[0;32mwith\u001b[0m \u001b[0mopen\u001b[0m\u001b[0;34m(\u001b[0m\u001b[0;34m'train_acc_list_cnn1'\u001b[0m\u001b[0;34m,\u001b[0m \u001b[0;34m'wb'\u001b[0m\u001b[0;34m)\u001b[0m \u001b[0;32mas\u001b[0m \u001b[0mf\u001b[0m\u001b[0;34m:\u001b[0m\u001b[0;34m\u001b[0m\u001b[0m\n\u001b[1;32m      5\u001b[0m      \u001b[0mpickle\u001b[0m\u001b[0;34m.\u001b[0m\u001b[0mdump\u001b[0m\u001b[0;34m(\u001b[0m\u001b[0mtrain_acc_list_cnn1\u001b[0m\u001b[0;34m,\u001b[0m \u001b[0mf\u001b[0m\u001b[0;34m)\u001b[0m\u001b[0;34m\u001b[0m\u001b[0m\n",
      "\u001b[0;31mNameError\u001b[0m: name 'pickle' is not defined"
     ]
    }
   ],
   "source": [
    "train_acc_list_cnn1,val_acc_list_cnn1,train_loss_cnn1 = train_cnn(300,3,'cnn_hs_300_ks_3')\n",
    "with open('val_acc_list_cnn1', 'wb') as f:\n",
    "     pickle.dump( val_acc_list_cnn1, f)\n",
    "with open('train_acc_list_cnn1', 'wb') as f:\n",
    "     pickle.dump(train_acc_list_cnn1, f)\n",
    "with open('train_loss_cnn1', 'wb') as f:\n",
    "     pickle.dump(train_loss_cnn1, f)"
   ]
  },
  {
   "cell_type": "code",
   "execution_count": 16,
   "metadata": {
    "collapsed": true
   },
   "outputs": [],
   "source": [
    "with open('val_acc_list_cnn1', 'wb') as f:\n",
    "     pickle.dump( val_acc_list_cnn1, f)\n",
    "with open('train_acc_list_cnn1', 'wb') as f:\n",
    "     pickle.dump(train_acc_list_cnn1, f)\n",
    "with open('train_loss_cnn1', 'wb') as f:\n",
    "     pickle.dump(train_loss_cnn1, f)"
   ]
  },
  {
   "cell_type": "code",
   "execution_count": 17,
   "metadata": {},
   "outputs": [
    {
     "name": "stdout",
     "output_type": "stream",
     "text": [
      "Epoch: [1/10], Step: [501/3125], Train Loss: 0.9574393033981323, Validation Acc: 42.1\n",
      "Epoch: [1/10], Step: [1001/3125], Train Loss: 0.9434483051300049, Validation Acc: 58.0\n",
      "Epoch: [1/10], Step: [1501/3125], Train Loss: 0.8900450468063354, Validation Acc: 58.2\n",
      "Epoch: [1/10], Step: [2001/3125], Train Loss: 0.8556941747665405, Validation Acc: 59.2\n",
      "Epoch: [1/10], Step: [2501/3125], Train Loss: 0.7658823728561401, Validation Acc: 60.7\n",
      "Epoch: [1/10], Step: [3001/3125], Train Loss: 0.7631287574768066, Validation Acc: 60.9\n",
      "Epoch: [2/10], Step: [501/3125], Train Loss: 0.7859179973602295, Validation Acc: 61.4\n",
      "Epoch: [2/10], Step: [1001/3125], Train Loss: 0.9447571635246277, Validation Acc: 61.2\n",
      "Epoch: [2/10], Step: [1501/3125], Train Loss: 0.9533923268318176, Validation Acc: 61.5\n",
      "Epoch: [2/10], Step: [2001/3125], Train Loss: 0.8006707429885864, Validation Acc: 64.0\n",
      "Epoch: [2/10], Step: [2501/3125], Train Loss: 0.6546100974082947, Validation Acc: 63.1\n",
      "Epoch: [2/10], Step: [3001/3125], Train Loss: 0.8021379113197327, Validation Acc: 63.0\n",
      "Epoch: [3/10], Step: [501/3125], Train Loss: 0.8142142295837402, Validation Acc: 62.7\n",
      "Epoch: [3/10], Step: [1001/3125], Train Loss: 0.6387206315994263, Validation Acc: 63.2\n",
      "Epoch: [3/10], Step: [1501/3125], Train Loss: 0.86528080701828, Validation Acc: 65.5\n",
      "Epoch: [3/10], Step: [2001/3125], Train Loss: 0.6741074323654175, Validation Acc: 65.2\n",
      "Epoch: [3/10], Step: [2501/3125], Train Loss: 0.7050051093101501, Validation Acc: 65.4\n",
      "Epoch: [3/10], Step: [3001/3125], Train Loss: 0.5878629684448242, Validation Acc: 65.5\n",
      "Epoch: [4/10], Step: [501/3125], Train Loss: 0.7882422208786011, Validation Acc: 66.7\n",
      "Epoch: [4/10], Step: [1001/3125], Train Loss: 0.8658557534217834, Validation Acc: 66.5\n",
      "Epoch: [4/10], Step: [1501/3125], Train Loss: 0.8333885669708252, Validation Acc: 64.6\n",
      "Epoch: [4/10], Step: [2001/3125], Train Loss: 0.6394285559654236, Validation Acc: 66.7\n",
      "Epoch: [4/10], Step: [2501/3125], Train Loss: 0.780461311340332, Validation Acc: 67.4\n",
      "Epoch: [4/10], Step: [3001/3125], Train Loss: 1.099218487739563, Validation Acc: 67.6\n",
      "Epoch: [5/10], Step: [501/3125], Train Loss: 0.8551314473152161, Validation Acc: 68.1\n",
      "Epoch: [5/10], Step: [1001/3125], Train Loss: 0.5369775891304016, Validation Acc: 67.6\n",
      "Epoch: [5/10], Step: [1501/3125], Train Loss: 0.8341291546821594, Validation Acc: 67.7\n",
      "Epoch: [5/10], Step: [2001/3125], Train Loss: 0.5627148747444153, Validation Acc: 68.7\n",
      "Epoch: [5/10], Step: [2501/3125], Train Loss: 0.4324294924736023, Validation Acc: 65.5\n",
      "Epoch: [5/10], Step: [3001/3125], Train Loss: 0.837483823299408, Validation Acc: 66.3\n",
      "Epoch: [6/10], Step: [501/3125], Train Loss: 0.4438420236110687, Validation Acc: 67.3\n",
      "Epoch: [6/10], Step: [1001/3125], Train Loss: 0.6828787922859192, Validation Acc: 68.0\n",
      "Epoch: [6/10], Step: [1501/3125], Train Loss: 0.5251795053482056, Validation Acc: 67.5\n",
      "Epoch: [6/10], Step: [2001/3125], Train Loss: 0.6818469762802124, Validation Acc: 67.9\n",
      "Epoch: [6/10], Step: [2501/3125], Train Loss: 0.6400378346443176, Validation Acc: 67.8\n",
      "Epoch: [6/10], Step: [3001/3125], Train Loss: 0.45880451798439026, Validation Acc: 67.9\n",
      "Epoch: [7/10], Step: [501/3125], Train Loss: 0.5577507615089417, Validation Acc: 68.1\n",
      "Epoch: [7/10], Step: [1001/3125], Train Loss: 5.625737190246582, Validation Acc: 68.4\n",
      "Epoch: [7/10], Step: [1501/3125], Train Loss: 0.5585699081420898, Validation Acc: 68.0\n",
      "Epoch: [7/10], Step: [2001/3125], Train Loss: 0.5608311891555786, Validation Acc: 67.0\n",
      "Epoch: [7/10], Step: [2501/3125], Train Loss: 0.3892887234687805, Validation Acc: 68.6\n",
      "Epoch: [7/10], Step: [3001/3125], Train Loss: 0.5644186735153198, Validation Acc: 69.3\n",
      "Epoch: [8/10], Step: [501/3125], Train Loss: 0.5288856625556946, Validation Acc: 69.1\n",
      "Epoch: [8/10], Step: [1001/3125], Train Loss: 0.7870170474052429, Validation Acc: 68.4\n",
      "Epoch: [8/10], Step: [1501/3125], Train Loss: 0.31858158111572266, Validation Acc: 67.8\n",
      "Epoch: [8/10], Step: [2001/3125], Train Loss: 0.4259966015815735, Validation Acc: 67.4\n",
      "Epoch: [8/10], Step: [2501/3125], Train Loss: 0.4236169159412384, Validation Acc: 69.3\n",
      "Epoch: [8/10], Step: [3001/3125], Train Loss: 0.5861362814903259, Validation Acc: 66.7\n",
      "Epoch: [9/10], Step: [501/3125], Train Loss: 0.25207608938217163, Validation Acc: 67.1\n",
      "Epoch: [9/10], Step: [1001/3125], Train Loss: 0.45061084628105164, Validation Acc: 68.6\n",
      "Epoch: [9/10], Step: [1501/3125], Train Loss: 0.22091004252433777, Validation Acc: 68.6\n",
      "Epoch: [9/10], Step: [2001/3125], Train Loss: 0.4483623802661896, Validation Acc: 68.8\n",
      "Epoch: [9/10], Step: [2501/3125], Train Loss: 0.4184027910232544, Validation Acc: 68.1\n",
      "Epoch: [9/10], Step: [3001/3125], Train Loss: 0.625960648059845, Validation Acc: 68.9\n",
      "Epoch: [10/10], Step: [501/3125], Train Loss: 0.4221455752849579, Validation Acc: 66.8\n",
      "Epoch: [10/10], Step: [1001/3125], Train Loss: 0.34138545393943787, Validation Acc: 68.0\n",
      "Epoch: [10/10], Step: [1501/3125], Train Loss: 0.3107822835445404, Validation Acc: 68.0\n",
      "Epoch: [10/10], Step: [2001/3125], Train Loss: 0.37277844548225403, Validation Acc: 67.6\n",
      "Epoch: [10/10], Step: [2501/3125], Train Loss: 0.6414076685905457, Validation Acc: 69.7\n",
      "Epoch: [10/10], Step: [3001/3125], Train Loss: 0.30171293020248413, Validation Acc: 67.3\n"
     ]
    }
   ],
   "source": [
    "train_acc_list_cnn2,val_acc_list_cnn2,train_loss_cnn2 = train_cnn(400,3,'cnn_hs_400_ks_3')\n",
    "with open('val_acc_list_cnn2', 'wb') as f:\n",
    "     pickle.dump( val_acc_list_cnn2, f)\n",
    "with open('train_acc_list_cnn2', 'wb') as f:\n",
    "     pickle.dump(train_acc_list_cnn2, f)\n",
    "with open('train_loss_cnn2', 'wb') as f:\n",
    "     pickle.dump(train_loss_cnn2, f)"
   ]
  },
  {
   "cell_type": "code",
   "execution_count": 18,
   "metadata": {},
   "outputs": [
    {
     "name": "stdout",
     "output_type": "stream",
     "text": [
      "Epoch: [1/10], Step: [501/3125], Train Loss: 1.0572879314422607, Validation Acc: 42.2\n",
      "Epoch: [1/10], Step: [1001/3125], Train Loss: 0.9764376878738403, Validation Acc: 55.4\n",
      "Epoch: [1/10], Step: [1501/3125], Train Loss: 0.8318452835083008, Validation Acc: 56.9\n",
      "Epoch: [1/10], Step: [2001/3125], Train Loss: 0.7551078200340271, Validation Acc: 58.2\n",
      "Epoch: [1/10], Step: [2501/3125], Train Loss: 0.8722537755966187, Validation Acc: 58.9\n",
      "Epoch: [1/10], Step: [3001/3125], Train Loss: 1.0347135066986084, Validation Acc: 60.2\n",
      "Epoch: [2/10], Step: [501/3125], Train Loss: 0.834957480430603, Validation Acc: 60.4\n",
      "Epoch: [2/10], Step: [1001/3125], Train Loss: 0.9010812044143677, Validation Acc: 60.0\n",
      "Epoch: [2/10], Step: [1501/3125], Train Loss: 0.8308014869689941, Validation Acc: 61.1\n",
      "Epoch: [2/10], Step: [2001/3125], Train Loss: 0.7764003276824951, Validation Acc: 59.9\n",
      "Epoch: [2/10], Step: [2501/3125], Train Loss: 0.8452682495117188, Validation Acc: 60.5\n",
      "Epoch: [2/10], Step: [3001/3125], Train Loss: 0.9266514182090759, Validation Acc: 60.9\n",
      "Epoch: [3/10], Step: [501/3125], Train Loss: 0.6993072628974915, Validation Acc: 60.1\n",
      "Epoch: [3/10], Step: [1001/3125], Train Loss: 0.7272104024887085, Validation Acc: 61.7\n",
      "Epoch: [3/10], Step: [1501/3125], Train Loss: 0.8487998247146606, Validation Acc: 62.7\n",
      "Epoch: [3/10], Step: [2001/3125], Train Loss: 0.6822755932807922, Validation Acc: 60.4\n",
      "Epoch: [3/10], Step: [2501/3125], Train Loss: 0.9097238779067993, Validation Acc: 60.0\n",
      "Epoch: [3/10], Step: [3001/3125], Train Loss: 0.9128665328025818, Validation Acc: 63.7\n",
      "Epoch: [4/10], Step: [501/3125], Train Loss: 1.0707212686538696, Validation Acc: 63.3\n",
      "Epoch: [4/10], Step: [1001/3125], Train Loss: 0.8042099475860596, Validation Acc: 63.9\n",
      "Epoch: [4/10], Step: [1501/3125], Train Loss: 0.5329689383506775, Validation Acc: 63.6\n",
      "Epoch: [4/10], Step: [2001/3125], Train Loss: 1.0676312446594238, Validation Acc: 64.5\n",
      "Epoch: [4/10], Step: [2501/3125], Train Loss: 0.8641377091407776, Validation Acc: 63.8\n",
      "Epoch: [4/10], Step: [3001/3125], Train Loss: 0.802510678768158, Validation Acc: 64.1\n",
      "Epoch: [5/10], Step: [501/3125], Train Loss: 0.8459120988845825, Validation Acc: 61.2\n",
      "Epoch: [5/10], Step: [1001/3125], Train Loss: 0.9564571976661682, Validation Acc: 63.8\n",
      "Epoch: [5/10], Step: [1501/3125], Train Loss: 0.642386794090271, Validation Acc: 63.4\n",
      "Epoch: [5/10], Step: [2001/3125], Train Loss: 0.8132192492485046, Validation Acc: 64.6\n",
      "Epoch: [5/10], Step: [2501/3125], Train Loss: 0.814164400100708, Validation Acc: 64.4\n",
      "Epoch: [5/10], Step: [3001/3125], Train Loss: 0.8803533911705017, Validation Acc: 64.4\n",
      "Epoch: [6/10], Step: [501/3125], Train Loss: 0.8405492901802063, Validation Acc: 64.5\n",
      "Epoch: [6/10], Step: [1001/3125], Train Loss: 0.5566574931144714, Validation Acc: 65.5\n",
      "Epoch: [6/10], Step: [1501/3125], Train Loss: 0.7829983830451965, Validation Acc: 64.2\n",
      "Epoch: [6/10], Step: [2001/3125], Train Loss: 0.6283023953437805, Validation Acc: 65.8\n",
      "Epoch: [6/10], Step: [2501/3125], Train Loss: 0.7726981043815613, Validation Acc: 65.2\n",
      "Epoch: [6/10], Step: [3001/3125], Train Loss: 1.032499074935913, Validation Acc: 65.5\n",
      "Epoch: [7/10], Step: [501/3125], Train Loss: 0.73988938331604, Validation Acc: 64.4\n",
      "Epoch: [7/10], Step: [1001/3125], Train Loss: 0.5533459186553955, Validation Acc: 65.6\n",
      "Epoch: [7/10], Step: [1501/3125], Train Loss: 0.6880446672439575, Validation Acc: 65.5\n",
      "Epoch: [7/10], Step: [2001/3125], Train Loss: 0.4379615783691406, Validation Acc: 65.5\n",
      "Epoch: [7/10], Step: [2501/3125], Train Loss: 0.5469133853912354, Validation Acc: 64.7\n",
      "Epoch: [7/10], Step: [3001/3125], Train Loss: 0.5836999416351318, Validation Acc: 64.3\n",
      "Epoch: [8/10], Step: [501/3125], Train Loss: 0.7940847873687744, Validation Acc: 65.8\n",
      "Epoch: [8/10], Step: [1001/3125], Train Loss: 0.431720495223999, Validation Acc: 64.5\n",
      "Epoch: [8/10], Step: [1501/3125], Train Loss: 0.5657039880752563, Validation Acc: 65.7\n",
      "Epoch: [8/10], Step: [2001/3125], Train Loss: 0.3828044533729553, Validation Acc: 64.7\n",
      "Epoch: [8/10], Step: [2501/3125], Train Loss: 42.02397155761719, Validation Acc: 41.0\n",
      "Epoch: [8/10], Step: [3001/3125], Train Loss: 0.8756099343299866, Validation Acc: 64.5\n",
      "Epoch: [9/10], Step: [501/3125], Train Loss: 0.7432066202163696, Validation Acc: 65.9\n",
      "Epoch: [9/10], Step: [1001/3125], Train Loss: 0.4599010646343231, Validation Acc: 64.4\n",
      "Epoch: [9/10], Step: [1501/3125], Train Loss: 0.776170015335083, Validation Acc: 65.0\n",
      "Epoch: [9/10], Step: [2001/3125], Train Loss: 0.8086938858032227, Validation Acc: 67.7\n",
      "Epoch: [9/10], Step: [2501/3125], Train Loss: 0.9406205415725708, Validation Acc: 66.4\n",
      "Epoch: [9/10], Step: [3001/3125], Train Loss: 0.5830138921737671, Validation Acc: 66.3\n",
      "Epoch: [10/10], Step: [501/3125], Train Loss: 0.5733580589294434, Validation Acc: 65.8\n",
      "Epoch: [10/10], Step: [1001/3125], Train Loss: 0.640480101108551, Validation Acc: 65.6\n",
      "Epoch: [10/10], Step: [1501/3125], Train Loss: 0.5304068922996521, Validation Acc: 66.4\n",
      "Epoch: [10/10], Step: [2001/3125], Train Loss: 0.5101627111434937, Validation Acc: 67.1\n",
      "Epoch: [10/10], Step: [2501/3125], Train Loss: 0.7510788440704346, Validation Acc: 66.6\n",
      "Epoch: [10/10], Step: [3001/3125], Train Loss: 0.6351895928382874, Validation Acc: 66.4\n"
     ]
    }
   ],
   "source": [
    "train_acc_list_cnn3,val_acc_list_cnn3,train_loss_cnn3 = train_cnn(100,3,'cnn_hs_100_ks_3')\n",
    "with open('val_acc_list_cnn3', 'wb') as f:\n",
    "     pickle.dump( val_acc_list_cnn3, f)\n",
    "with open('train_acc_list_cnn3', 'wb') as f:\n",
    "     pickle.dump(train_acc_list_cnn3, f)\n",
    "with open('train_loss_cnn3', 'wb') as f:\n",
    "     pickle.dump(train_loss_cnn3, f)"
   ]
  },
  {
   "cell_type": "code",
   "execution_count": 28,
   "metadata": {},
   "outputs": [
    {
     "name": "stdout",
     "output_type": "stream",
     "text": [
      "Epoch: [1/10], Step: [501/3125], Train Loss: 1.0028960704803467, Validation Acc: 53.3\n",
      "Epoch: [1/10], Step: [1001/3125], Train Loss: 0.8516950607299805, Validation Acc: 55.5\n",
      "Epoch: [1/10], Step: [1501/3125], Train Loss: 0.8663437962532043, Validation Acc: 56.5\n",
      "Epoch: [1/10], Step: [2001/3125], Train Loss: 0.7050290703773499, Validation Acc: 58.6\n",
      "Epoch: [1/10], Step: [2501/3125], Train Loss: 0.8113204836845398, Validation Acc: 60.1\n",
      "Epoch: [1/10], Step: [3001/3125], Train Loss: 0.6982229351997375, Validation Acc: 63.1\n",
      "Epoch: [2/10], Step: [501/3125], Train Loss: 0.9397799372673035, Validation Acc: 63.1\n",
      "Epoch: [2/10], Step: [1001/3125], Train Loss: 0.7890228629112244, Validation Acc: 64.3\n",
      "Epoch: [2/10], Step: [1501/3125], Train Loss: 0.7649396061897278, Validation Acc: 64.6\n",
      "Epoch: [2/10], Step: [2001/3125], Train Loss: 0.8086591362953186, Validation Acc: 65.3\n",
      "Epoch: [2/10], Step: [2501/3125], Train Loss: 0.5872384309768677, Validation Acc: 64.9\n",
      "Epoch: [2/10], Step: [3001/3125], Train Loss: 0.7242255210876465, Validation Acc: 64.0\n",
      "Epoch: [3/10], Step: [501/3125], Train Loss: 0.7263983488082886, Validation Acc: 65.8\n",
      "Epoch: [3/10], Step: [1001/3125], Train Loss: 0.7791236639022827, Validation Acc: 64.9\n",
      "Epoch: [3/10], Step: [1501/3125], Train Loss: 0.948826253414154, Validation Acc: 65.6\n",
      "Epoch: [3/10], Step: [2001/3125], Train Loss: 0.6972581744194031, Validation Acc: 65.5\n",
      "Epoch: [3/10], Step: [2501/3125], Train Loss: 0.6846016049385071, Validation Acc: 65.9\n",
      "Epoch: [3/10], Step: [3001/3125], Train Loss: 0.7628480792045593, Validation Acc: 67.2\n",
      "Epoch: [4/10], Step: [501/3125], Train Loss: 0.6844033002853394, Validation Acc: 67.6\n",
      "Epoch: [4/10], Step: [1001/3125], Train Loss: 0.6524897813796997, Validation Acc: 67.9\n",
      "Epoch: [4/10], Step: [1501/3125], Train Loss: 0.6509532928466797, Validation Acc: 67.5\n",
      "Epoch: [4/10], Step: [2001/3125], Train Loss: 0.8817702531814575, Validation Acc: 69.0\n",
      "Epoch: [4/10], Step: [2501/3125], Train Loss: 0.5915794968605042, Validation Acc: 69.8\n",
      "Epoch: [4/10], Step: [3001/3125], Train Loss: 0.6180707812309265, Validation Acc: 68.2\n",
      "Epoch: [5/10], Step: [501/3125], Train Loss: 0.8757120370864868, Validation Acc: 69.3\n",
      "Epoch: [5/10], Step: [1001/3125], Train Loss: 0.7234088182449341, Validation Acc: 68.7\n",
      "Epoch: [5/10], Step: [1501/3125], Train Loss: 0.5395087003707886, Validation Acc: 68.6\n",
      "Epoch: [5/10], Step: [2001/3125], Train Loss: 0.699714183807373, Validation Acc: 71.1\n",
      "Epoch: [5/10], Step: [2501/3125], Train Loss: 0.6190509796142578, Validation Acc: 69.6\n",
      "Epoch: [5/10], Step: [3001/3125], Train Loss: 0.46243658661842346, Validation Acc: 69.9\n",
      "Epoch: [6/10], Step: [501/3125], Train Loss: 0.7192878127098083, Validation Acc: 70.1\n",
      "Epoch: [6/10], Step: [1001/3125], Train Loss: 0.3420988917350769, Validation Acc: 71.3\n",
      "Epoch: [6/10], Step: [1501/3125], Train Loss: 0.7662110924720764, Validation Acc: 70.8\n",
      "Epoch: [6/10], Step: [2001/3125], Train Loss: 0.5941312313079834, Validation Acc: 71.1\n",
      "Epoch: [6/10], Step: [2501/3125], Train Loss: 0.98265141248703, Validation Acc: 71.6\n",
      "Epoch: [6/10], Step: [3001/3125], Train Loss: 0.7815843820571899, Validation Acc: 71.0\n",
      "Epoch: [7/10], Step: [501/3125], Train Loss: 0.5715599656105042, Validation Acc: 71.0\n",
      "Epoch: [7/10], Step: [1001/3125], Train Loss: 0.46743467450141907, Validation Acc: 70.8\n",
      "Epoch: [7/10], Step: [1501/3125], Train Loss: 0.558638334274292, Validation Acc: 69.2\n",
      "Epoch: [7/10], Step: [2001/3125], Train Loss: 1.0339316129684448, Validation Acc: 69.1\n",
      "Epoch: [7/10], Step: [2501/3125], Train Loss: 0.8437312841415405, Validation Acc: 71.4\n",
      "Epoch: [7/10], Step: [3001/3125], Train Loss: 0.45063093304634094, Validation Acc: 71.5\n",
      "Epoch: [8/10], Step: [501/3125], Train Loss: 0.5453810691833496, Validation Acc: 70.0\n",
      "Epoch: [8/10], Step: [1001/3125], Train Loss: 0.4307669401168823, Validation Acc: 70.3\n",
      "Epoch: [8/10], Step: [1501/3125], Train Loss: 0.6097717881202698, Validation Acc: 69.4\n",
      "Epoch: [8/10], Step: [2001/3125], Train Loss: 0.6425934433937073, Validation Acc: 71.3\n",
      "Epoch: [8/10], Step: [2501/3125], Train Loss: 0.4042018949985504, Validation Acc: 70.8\n",
      "Epoch: [8/10], Step: [3001/3125], Train Loss: 0.48853281140327454, Validation Acc: 71.0\n",
      "Epoch: [9/10], Step: [501/3125], Train Loss: 0.21405446529388428, Validation Acc: 70.6\n",
      "Epoch: [9/10], Step: [1001/3125], Train Loss: 0.24884290993213654, Validation Acc: 70.7\n",
      "Epoch: [9/10], Step: [1501/3125], Train Loss: 0.47484251856803894, Validation Acc: 70.8\n",
      "Epoch: [9/10], Step: [2001/3125], Train Loss: 0.6342779994010925, Validation Acc: 71.7\n",
      "Epoch: [9/10], Step: [2501/3125], Train Loss: 0.5692614316940308, Validation Acc: 73.0\n",
      "Epoch: [9/10], Step: [3001/3125], Train Loss: 0.43989333510398865, Validation Acc: 71.6\n",
      "Epoch: [10/10], Step: [501/3125], Train Loss: 0.32034021615982056, Validation Acc: 70.5\n",
      "Epoch: [10/10], Step: [1001/3125], Train Loss: 0.2261786013841629, Validation Acc: 70.0\n",
      "Epoch: [10/10], Step: [1501/3125], Train Loss: 0.4384954571723938, Validation Acc: 70.7\n",
      "Epoch: [10/10], Step: [2001/3125], Train Loss: 0.3373822271823883, Validation Acc: 72.2\n",
      "Epoch: [10/10], Step: [2501/3125], Train Loss: 0.505973219871521, Validation Acc: 70.7\n",
      "Epoch: [10/10], Step: [3001/3125], Train Loss: 0.45285192131996155, Validation Acc: 71.3\n"
     ]
    }
   ],
   "source": [
    "train_acc_list_cnn4,val_acc_list_cnn4,train_loss_cnn4 = train_cnn(400,2,'cnn_hs_400_ks_2')\n",
    "with open('val_acc_list_cnn4', 'wb') as f:\n",
    "     pickle.dump( val_acc_list_cnn4, f)\n",
    "with open('train_acc_list_cnn4', 'wb') as f:\n",
    "     pickle.dump(train_acc_list_cnn4, f)\n",
    "with open('train_loss_cnn4', 'wb') as f:\n",
    "     pickle.dump(train_loss_cnn4, f)"
   ]
  },
  {
   "cell_type": "code",
   "execution_count": 29,
   "metadata": {},
   "outputs": [
    {
     "name": "stdout",
     "output_type": "stream",
     "text": [
      "Epoch: [1/10], Step: [501/3125], Train Loss: 0.9234831929206848, Validation Acc: 50.6\n",
      "Epoch: [1/10], Step: [1001/3125], Train Loss: 0.8288711309432983, Validation Acc: 56.3\n",
      "Epoch: [1/10], Step: [1501/3125], Train Loss: 0.8658216595649719, Validation Acc: 57.3\n",
      "Epoch: [1/10], Step: [2001/3125], Train Loss: 0.8507201075553894, Validation Acc: 58.4\n",
      "Epoch: [1/10], Step: [2501/3125], Train Loss: 0.7939512729644775, Validation Acc: 58.7\n",
      "Epoch: [1/10], Step: [3001/3125], Train Loss: 1.0241626501083374, Validation Acc: 61.0\n",
      "Epoch: [2/10], Step: [501/3125], Train Loss: 0.6995624899864197, Validation Acc: 60.9\n",
      "Epoch: [2/10], Step: [1001/3125], Train Loss: 0.9269587397575378, Validation Acc: 60.8\n",
      "Epoch: [2/10], Step: [1501/3125], Train Loss: 0.7637267112731934, Validation Acc: 59.3\n",
      "Epoch: [2/10], Step: [2001/3125], Train Loss: 0.7269180417060852, Validation Acc: 60.7\n",
      "Epoch: [2/10], Step: [2501/3125], Train Loss: 0.8508252501487732, Validation Acc: 62.2\n",
      "Epoch: [2/10], Step: [3001/3125], Train Loss: 0.8513546586036682, Validation Acc: 62.7\n",
      "Epoch: [3/10], Step: [501/3125], Train Loss: 0.9209590554237366, Validation Acc: 62.8\n",
      "Epoch: [3/10], Step: [1001/3125], Train Loss: 0.7735714912414551, Validation Acc: 61.5\n",
      "Epoch: [3/10], Step: [1501/3125], Train Loss: 0.6667028665542603, Validation Acc: 63.7\n",
      "Epoch: [3/10], Step: [2001/3125], Train Loss: 0.8275277614593506, Validation Acc: 61.4\n",
      "Epoch: [3/10], Step: [2501/3125], Train Loss: 0.7650803327560425, Validation Acc: 58.3\n",
      "Epoch: [3/10], Step: [3001/3125], Train Loss: 0.6796152591705322, Validation Acc: 65.5\n",
      "Epoch: [4/10], Step: [501/3125], Train Loss: 0.7500210404396057, Validation Acc: 66.0\n",
      "Epoch: [4/10], Step: [1001/3125], Train Loss: 0.7335079908370972, Validation Acc: 64.2\n",
      "Epoch: [4/10], Step: [1501/3125], Train Loss: 0.7644705176353455, Validation Acc: 66.6\n",
      "Epoch: [4/10], Step: [2001/3125], Train Loss: 0.6771515607833862, Validation Acc: 67.6\n",
      "Epoch: [4/10], Step: [2501/3125], Train Loss: 0.7983351945877075, Validation Acc: 67.1\n",
      "Epoch: [4/10], Step: [3001/3125], Train Loss: 0.5778459906578064, Validation Acc: 67.1\n",
      "Epoch: [5/10], Step: [501/3125], Train Loss: 0.7142083048820496, Validation Acc: 67.4\n",
      "Epoch: [5/10], Step: [1001/3125], Train Loss: 0.6937881112098694, Validation Acc: 65.6\n",
      "Epoch: [5/10], Step: [1501/3125], Train Loss: 0.7179240584373474, Validation Acc: 66.8\n",
      "Epoch: [5/10], Step: [2001/3125], Train Loss: 0.8255590796470642, Validation Acc: 66.4\n",
      "Epoch: [5/10], Step: [2501/3125], Train Loss: 0.8972467184066772, Validation Acc: 65.8\n",
      "Epoch: [5/10], Step: [3001/3125], Train Loss: 0.6078910231590271, Validation Acc: 67.5\n",
      "Epoch: [6/10], Step: [501/3125], Train Loss: 0.7371156215667725, Validation Acc: 67.2\n",
      "Epoch: [6/10], Step: [1001/3125], Train Loss: 0.8128342628479004, Validation Acc: 67.1\n",
      "Epoch: [6/10], Step: [1501/3125], Train Loss: 0.5574442744255066, Validation Acc: 66.4\n",
      "Epoch: [6/10], Step: [2001/3125], Train Loss: 0.4785827398300171, Validation Acc: 66.8\n",
      "Epoch: [6/10], Step: [2501/3125], Train Loss: 0.43866610527038574, Validation Acc: 66.9\n",
      "Epoch: [6/10], Step: [3001/3125], Train Loss: 0.9548831582069397, Validation Acc: 65.9\n",
      "Epoch: [7/10], Step: [501/3125], Train Loss: 0.7181541919708252, Validation Acc: 66.1\n",
      "Epoch: [7/10], Step: [1001/3125], Train Loss: 0.43064746260643005, Validation Acc: 67.3\n",
      "Epoch: [7/10], Step: [1501/3125], Train Loss: 0.5483402609825134, Validation Acc: 67.5\n",
      "Epoch: [7/10], Step: [2001/3125], Train Loss: 0.5733664631843567, Validation Acc: 67.8\n",
      "Epoch: [7/10], Step: [2501/3125], Train Loss: 0.39662784337997437, Validation Acc: 68.6\n",
      "Epoch: [7/10], Step: [3001/3125], Train Loss: 0.33436375856399536, Validation Acc: 67.4\n",
      "Epoch: [8/10], Step: [501/3125], Train Loss: 0.5588297843933105, Validation Acc: 68.0\n",
      "Epoch: [8/10], Step: [1001/3125], Train Loss: 0.4162951111793518, Validation Acc: 65.2\n",
      "Epoch: [8/10], Step: [1501/3125], Train Loss: 0.39789676666259766, Validation Acc: 68.5\n",
      "Epoch: [8/10], Step: [2001/3125], Train Loss: 0.4461296796798706, Validation Acc: 67.8\n",
      "Epoch: [8/10], Step: [2501/3125], Train Loss: 0.3035179078578949, Validation Acc: 65.9\n",
      "Epoch: [8/10], Step: [3001/3125], Train Loss: 0.33370527625083923, Validation Acc: 67.4\n",
      "Epoch: [9/10], Step: [501/3125], Train Loss: 0.6856061220169067, Validation Acc: 66.6\n",
      "Epoch: [9/10], Step: [1001/3125], Train Loss: 0.6323895454406738, Validation Acc: 66.2\n",
      "Epoch: [9/10], Step: [1501/3125], Train Loss: 0.2516605854034424, Validation Acc: 68.1\n",
      "Epoch: [9/10], Step: [2001/3125], Train Loss: 0.6269281506538391, Validation Acc: 68.6\n",
      "Epoch: [9/10], Step: [2501/3125], Train Loss: 0.3684377372264862, Validation Acc: 65.2\n",
      "Epoch: [9/10], Step: [3001/3125], Train Loss: 0.3217644989490509, Validation Acc: 66.7\n",
      "Epoch: [10/10], Step: [501/3125], Train Loss: 0.2309834361076355, Validation Acc: 64.2\n",
      "Epoch: [10/10], Step: [1001/3125], Train Loss: 0.17355048656463623, Validation Acc: 64.0\n",
      "Epoch: [10/10], Step: [1501/3125], Train Loss: 0.3338550329208374, Validation Acc: 66.1\n",
      "Epoch: [10/10], Step: [2001/3125], Train Loss: 0.4563884139060974, Validation Acc: 65.1\n",
      "Epoch: [10/10], Step: [2501/3125], Train Loss: 0.4406653642654419, Validation Acc: 66.5\n",
      "Epoch: [10/10], Step: [3001/3125], Train Loss: 0.0992598906159401, Validation Acc: 66.7\n"
     ]
    }
   ],
   "source": [
    "train_acc_list_cnn5,val_acc_list_cnn5,train_loss_cnn5 = train_cnn(400,4,'cnn_hs_400_ks_4')\n",
    "with open('val_acc_list_cnn5', 'wb') as f:\n",
    "     pickle.dump( val_acc_list_cnn5, f)\n",
    "with open('train_acc_list_cnn5', 'wb') as f:\n",
    "     pickle.dump(train_acc_list_cnn5, f)\n",
    "with open('train_loss_cnn5', 'wb') as f:\n",
    "     pickle.dump(train_loss_cnn5, f)"
   ]
  },
  {
   "cell_type": "code",
   "execution_count": 29,
   "metadata": {
    "collapsed": true
   },
   "outputs": [],
   "source": [
    "import pickle\n",
    "\n",
    "with open('val_acc_list_cnn0', 'wb') as f:\n",
    "     pickle.dump( val_acc_list_cnn0, f)\n",
    "with open('train_acc_list_cnn0', 'wb') as f:\n",
    "     pickle.dump(train_acc_list_cnn0, f)\n",
    "with open('train_loss_cnn0', 'wb') as f:\n",
    "     pickle.dump(train_loss_cnn0, f)"
   ]
  },
  {
   "cell_type": "code",
   "execution_count": 34,
   "metadata": {
    "collapsed": true
   },
   "outputs": [],
   "source": [
    "with open('val_acc_list_rnn0', 'wb') as f:\n",
    "     pickle.dump( val_acc_list_rnn0, f)\n",
    "with open('train_acc_list_rnn0', 'wb') as f:\n",
    "     pickle.dump(train_acc_list_rnn0, f)\n",
    "with open('train_loss_rnn0', 'wb') as f:\n",
    "     pickle.dump(train_loss_rnn0, f)"
   ]
  },
  {
   "cell_type": "markdown",
   "metadata": {
    "collapsed": true
   },
   "source": [
    "### Plot"
   ]
  },
  {
   "cell_type": "markdown",
   "metadata": {},
   "source": [
    "CNN\n",
    "\n",
    "0: default hs = 200, ks = 3\n",
    "\n",
    "1: hs = 300, ks = 3\n",
    "\n",
    "2: hs = 400, ks = 3\n",
    "\n",
    "3: hs = 100, ks = 3\n",
    "\n",
    "4: hs = 400, ks = 2\n",
    "\n",
    "5: hs = 400, ks = 4\n",
    "\n",
    "6: hs = 400, ks = 1\n"
   ]
  },
  {
   "cell_type": "code",
   "execution_count": 98,
   "metadata": {
    "collapsed": true
   },
   "outputs": [],
   "source": [
    "#load saved accuracies\n",
    "import pickle\n",
    "\n",
    "def load_cnn_acc():\n",
    "    cnn_val = []\n",
    "    cnn_train = []\n",
    "    for i in range(6):\n",
    "        cnn_val.append(pickle.load( open( str(\"val_acc_list_cnn\"+str(i)), \"rb\" ) ))\n",
    "        cnn_train.append(pickle.load( open(str(\"train_acc_list_cnn\"+str(i)), \"rb\" ) ))\n",
    "\n",
    "    return cnn_val, cnn_train\n",
    "\n"
   ]
  },
  {
   "cell_type": "markdown",
   "metadata": {},
   "source": [
    "RNN: \n",
    "\n",
    "rnn0:default lr = 5e-4, hs = 200\n",
    "\n",
    "rnn1: hs = 300\n",
    "\n",
    "rnn2: hs = 400\n",
    "\n",
    "rnn3: hs = 100"
   ]
  },
  {
   "cell_type": "code",
   "execution_count": 97,
   "metadata": {},
   "outputs": [],
   "source": [
    "#pickle.load( open( str(\"val_acc_list_cnn6\"), \"rb\" ))\n"
   ]
  },
  {
   "cell_type": "code",
   "execution_count": 42,
   "metadata": {
    "collapsed": true
   },
   "outputs": [],
   "source": [
    "def load_rnn_acc():\n",
    "    cnn_val = []\n",
    "    cnn_train = []\n",
    "    for i in range(5):\n",
    "        cnn_val.append(pickle.load( open( str(\"val_acc_list_rnn\"+str(i)), \"rb\" ) ))\n",
    "        cnn_train.append(pickle.load( open(str(\"train_acc_list_rnn\"+str(i)), \"rb\" ) ))\n",
    "\n",
    "    return cnn_val, cnn_train"
   ]
  },
  {
   "cell_type": "code",
   "execution_count": 99,
   "metadata": {},
   "outputs": [],
   "source": [
    "cnn_val,cnn_train = load_cnn_acc()"
   ]
  },
  {
   "cell_type": "code",
   "execution_count": 73,
   "metadata": {
    "collapsed": true
   },
   "outputs": [],
   "source": [
    "rnn_val,rnn_train = load_rnn_acc()"
   ]
  },
  {
   "cell_type": "code",
   "execution_count": 117,
   "metadata": {},
   "outputs": [],
   "source": [
    "def plot_train_curves(train,val,title,rnn = False):\n",
    "    \n",
    "    for i in range(len(train)):\n",
    "        val_max = np.max(val[i])\n",
    "        x = np.arange(len(train[i]))\n",
    "\n",
    "        plt.plot(x,train[i],label = 'train')\n",
    "        plt.plot(x,val[i],label = 'val')\n",
    "        plt.legend()\n",
    "        plt.xlabel('Number of steps(500 batches)')\n",
    "        plt.ylabel('Accuracies')\n",
    "        if rnn == False:\n",
    "            plot_title = 'CNN '+title[i]+': max val acc = '+str(val_max)\n",
    "        else:\n",
    "            plot_title = 'RNN '+title[i]+': max val acc = '+str(val_max)\n",
    "        plt.title(plot_title)\n",
    "        plt.savefig(str(plot_title)+'.jpeg')\n",
    "        plt.show()   "
   ]
  },
  {
   "cell_type": "code",
   "execution_count": 118,
   "metadata": {},
   "outputs": [
    {
     "data": {
      "image/png": "[encoded data removed]",
      "text/plain": [
       "<matplotlib.figure.Figure at 0x1357c6898>"
      ]
     },
     "metadata": {},
     "output_type": "display_data"
    },
    {
     "data": {
      "image/png": "[encoded data removed]",
      "text/plain": [
       "<matplotlib.figure.Figure at 0x134ea46d8>"
      ]
     },
     "metadata": {},
     "output_type": "display_data"
    },
    {
     "data": {
      "image/png": "[encoded data removed]",
      "text/plain": [
       "<matplotlib.figure.Figure at 0x134e7c6a0>"
      ]
     },
     "metadata": {},
     "output_type": "display_data"
    },
    {
     "data": {
      "image/png": "[encoded data removed]",
      "text/plain": [
       "<matplotlib.figure.Figure at 0x1345b00b8>"
      ]
     },
     "metadata": {},
     "output_type": "display_data"
    },
    {
     "data": {
      "image/png": "[encoded data removed]",
      "text/plain": [
       "<matplotlib.figure.Figure at 0x134e6ab70>"
      ]
     },
     "metadata": {},
     "output_type": "display_data"
    }
   ],
   "source": [
    "rnn_titles = ['default hs = 200, concat', 'hs = 300, concat',\n",
    "          'hs = 400, concat', 'hs = 100, concat','hs = 400, element-wise multiplication'\n",
    "          ]\n",
    "plot_train_curves(rnn_train,rnn_val,rnn_titles,True)"
   ]
  },
  {
   "cell_type": "code",
   "execution_count": 119,
   "metadata": {},
   "outputs": [
    {
     "data": {
      "image/png": "[encoded data removed]",
      "text/plain": [
       "<matplotlib.figure.Figure at 0x134fb7ef0>"
      ]
     },
     "metadata": {},
     "output_type": "display_data"
    },
    {
     "data": {
      "image/png": "[encoded data removed]",
      "text/plain": [
       "<matplotlib.figure.Figure at 0x13515b390>"
      ]
     },
     "metadata": {},
     "output_type": "display_data"
    },
    {
     "data": {
      "image/png": "[encoded data removed]",
      "text/plain": [
       "<matplotlib.figure.Figure at 0x1352b0a58>"
      ]
     },
     "metadata": {},
     "output_type": "display_data"
    },
    {
     "data": {
      "image/png": "[encoded data removed]",
      "text/plain": [
       "<matplotlib.figure.Figure at 0x135011f98>"
      ]
     },
     "metadata": {},
     "output_type": "display_data"
    },
    {
     "data": {
      "image/png": "[encoded data removed]",
      "text/plain": [
       "<matplotlib.figure.Figure at 0x1352b34a8>"
      ]
     },
     "metadata": {},
     "output_type": "display_data"
    },
    {
     "data": {
      "image/png": "[encoded data removed]",
      "text/plain": [
       "<matplotlib.figure.Figure at 0x1352d5390>"
      ]
     },
     "metadata": {},
     "output_type": "display_data"
    }
   ],
   "source": [
    "cnn_titles = ['default hs = 200, ks = 3', 'hs = 300, ks = 3',\n",
    "          'hs = 400, ks = 3', 'hs = 100, ks = 3',\n",
    "          'hs = 400, ks = 2', 'hs = 400, ks = 4'\n",
    "          ]\n",
    "plot_train_curves(cnn_train,cnn_val,cnn_titles,False)\n"
   ]
  },
  {
   "cell_type": "code",
   "execution_count": null,
   "metadata": {
    "collapsed": true
   },
   "outputs": [],
   "source": []
  },
  {
   "cell_type": "markdown",
   "metadata": {},
   "source": [
    "### Best Models"
   ]
  },
  {
   "cell_type": "code",
   "execution_count": 73,
   "metadata": {},
   "outputs": [
    {
     "data": {
      "text/plain": [
       "RNN(\n",
       "  (embedding): Embedding(50002, 300)\n",
       "  (rnn): GRU(300, 400, batch_first=True, bidirectional=True)\n",
       "  (fc): Sequential(\n",
       "    (0): Linear(in_features=800, out_features=400, bias=True)\n",
       "    (1): ReLU(inplace)\n",
       "    (2): Linear(in_features=400, out_features=3, bias=True)\n",
       "  )\n",
       "  (fc1): Linear(in_features=800, out_features=400, bias=True)\n",
       "  (relu): LeakyReLU(negative_slope=0.01, inplace)\n",
       "  (fc2): Linear(in_features=400, out_features=3, bias=True)\n",
       ")"
      ]
     },
     "execution_count": 73,
     "metadata": {},
     "output_type": "execute_result"
    }
   ],
   "source": [
    "model_rnn = RNN(weight = loaded_embeddings_ft,\n",
    "                emb_size= 300, \n",
    "                hidden_size=400, \n",
    "                num_layers=1, \n",
    "                num_classes =3,\n",
    "                element_mul = False).to(device)\n",
    "model_rnn.load_state_dict(torch.load(\"rnn_hs_400.pth\"))\n",
    "model_rnn.eval()\n"
   ]
  },
  {
   "cell_type": "code",
   "execution_count": 103,
   "metadata": {},
   "outputs": [
    {
     "data": {
      "text/plain": [
       "CNN(\n",
       "  (embedding): Embedding(50002, 300)\n",
       "  (conv1): Conv1d(300, 400, kernel_size=(2,), stride=(1,), padding=(1,))\n",
       "  (conv2): Conv1d(400, 400, kernel_size=(2,), stride=(1,), padding=(1,))\n",
       "  (fc): Sequential(\n",
       "    (0): Linear(in_features=800, out_features=400, bias=True)\n",
       "    (1): ReLU(inplace)\n",
       "    (2): Linear(in_features=400, out_features=3, bias=True)\n",
       "  )\n",
       ")"
      ]
     },
     "execution_count": 103,
     "metadata": {},
     "output_type": "execute_result"
    }
   ],
   "source": [
    "model_cnn = CNN(weight = loaded_embeddings_ft,\n",
    "                emb_size= 300, \n",
    "                hidden_size=400, \n",
    "                kernel_size=2, \n",
    "                num_classes =3\n",
    "                ).to(device)\n",
    "model_cnn.load_state_dict(torch.load(\"cnn_hs_400_ks_2.pth.pth\",map_location = \"cpu\"))\n",
    "model_cnn.eval()"
   ]
  },
  {
   "cell_type": "markdown",
   "metadata": {},
   "source": [
    "#### Load test data"
   ]
  },
  {
   "cell_type": "code",
   "execution_count": 80,
   "metadata": {
    "collapsed": true
   },
   "outputs": [],
   "source": [
    "def load_mnli(filename):\n",
    "    train_s1 = []\n",
    "    train_s2 = []\n",
    "    train_genre = []\n",
    "    train_label = []\n",
    "    with open(filename) as tsvfile:\n",
    "      reader = csv.reader(tsvfile, delimiter='\\t')\n",
    "      for row in reader:\n",
    "            \n",
    "        train_s1.append(row[0].split())\n",
    "        \n",
    "        train_s2.append(row[1].split())\n",
    "        \n",
    "        if row[2] == 'neutral': \n",
    "            train_label.append(1)\n",
    "        elif row[2] == 'entailment':\n",
    "            train_label.append(2)\n",
    "        else:\n",
    "            train_label.append(0)\n",
    "        \n",
    "        train_genre.append(row[3])\n",
    "        \n",
    "    train_s1 = train_s1[1:]\n",
    "    train_s2 = train_s2[1:]\n",
    "    \n",
    "    \n",
    "    train_label = train_label[1:]\n",
    "    train_genre = train_genre[1:]\n",
    "    \n",
    "    return train_s1,train_s2, train_label, train_genre"
   ]
  },
  {
   "cell_type": "code",
   "execution_count": 81,
   "metadata": {},
   "outputs": [],
   "source": [
    "test_s1,test_s2,test_label,test_genre = load_mnli('mnli_val.tsv')"
   ]
  },
  {
   "cell_type": "code",
   "execution_count": 82,
   "metadata": {},
   "outputs": [
    {
     "data": {
      "text/plain": [
       "['fiction', 'telephone', 'slate', 'government', 'travel']"
      ]
     },
     "execution_count": 82,
     "metadata": {},
     "output_type": "execute_result"
    }
   ],
   "source": [
    "genre_list = list(pd.Series(test_genre).unique())\n",
    "genre_list"
   ]
  },
  {
   "cell_type": "code",
   "execution_count": 83,
   "metadata": {
    "collapsed": true
   },
   "outputs": [],
   "source": [
    "def load_mnli_by_genre(filename,genre):\n",
    "    \n",
    "    s1 = []\n",
    "    s2 = []\n",
    "    label = []\n",
    "    with open(filename) as tsvfile:\n",
    "      reader = csv.reader(tsvfile, delimiter='\\t')\n",
    "      for row in reader:\n",
    "        \n",
    "        if row[3] == genre:\n",
    "            if len(row[0].split())<1000 and len(row[1].split())<1000:\n",
    "                s1.append(row[0].split())\n",
    "                s2.append(row[1].split())\n",
    "\n",
    "                if row[2] == 'neutral': \n",
    "                    label.append(1)\n",
    "                elif row[2] == 'entailment':\n",
    "                    label.append(2)\n",
    "                else:\n",
    "                    label.append(0)\n",
    "\n",
    "    return s1,s2,label\n",
    "        \n",
    "    "
   ]
  },
  {
   "cell_type": "code",
   "execution_count": 104,
   "metadata": {},
   "outputs": [
    {
     "name": "stdout",
     "output_type": "stream",
     "text": [
      "RNN on fiction :  50.55387713997986\n",
      "CNN on fiction :  46.72708962739174\n",
      "RNN on telephone :  49.15422885572139\n",
      "CNN on telephone :  48.45771144278607\n",
      "RNN on slate :  46.20758483033932\n",
      "CNN on slate :  43.812375249500995\n",
      "RNN on government :  48.326771653543304\n",
      "CNN on government :  49.50787401574803\n",
      "RNN on travel :  48.16700610997963\n",
      "CNN on travel :  45.824847250509166\n"
     ]
    }
   ],
   "source": [
    "device = torch.device(\"cpu\")\n",
    "RNN_acc = []\n",
    "CNN_acc = []\n",
    "for genre in genre_list:\n",
    "    test_s1,test_s2,test_label = load_mnli_by_genre('mnli_val.tsv',genre)\n",
    "    test_s1_indices = token2index_dataset(test_s1)\n",
    "    test_s2_indices = token2index_dataset(test_s2)\n",
    "    test_dataset = load_dataset(test_s1_indices,test_s2_indices, test_label)\n",
    "    test_loader = torch.utils.data.DataLoader(dataset=test_dataset, \n",
    "                                               batch_size=32,\n",
    "                                               collate_fn=collate_func,\n",
    "                                               shuffle=True)  \n",
    "\n",
    "    model_rnn = RNN(weight = loaded_embeddings_ft,\n",
    "                    emb_size= 300, \n",
    "                    hidden_size=400, \n",
    "                    num_layers=1, \n",
    "                    num_classes =3,\n",
    "                    element_mul = False).to(device)\n",
    "    model_rnn.load_state_dict(torch.load(\"rnn_hs_400.pth\",map_location = \"cpu\"))\n",
    "    model_rnn.eval()\n",
    "\n",
    "    model_cnn = CNN(weight = loaded_embeddings_ft,\n",
    "                    emb_size= 300, \n",
    "                    hidden_size=400, \n",
    "                    kernel_size=2, \n",
    "                    num_classes =3\n",
    "                    ).to(device)\n",
    "    model_cnn.load_state_dict(torch.load(\"cnn_hs_400_ks_2.pth.pth\", map_location = \"cpu\"))\n",
    "    model_cnn.eval()\n",
    "    \n",
    "    rnn_test = test_model(test_loader, model_rnn)\n",
    "    cnn_test = test_model(test_loader, model_cnn)\n",
    "    RNN_acc.append(rnn_test)\n",
    "    CNN_acc.append(cnn_test)\n",
    "    print('RNN on',genre,': ',rnn_test)\n",
    "    print('CNN on',genre,': ',cnn_test)\n",
    "\n"
   ]
  },
  {
   "cell_type": "markdown",
   "metadata": {},
   "source": [
    "### Find 3 correct and 3 incorrect predictions"
   ]
  },
  {
   "cell_type": "markdown",
   "metadata": {},
   "source": [
    "#### Best model:"
   ]
  },
  {
   "cell_type": "code",
   "execution_count": 122,
   "metadata": {},
   "outputs": [],
   "source": [
    "device = torch.device(\"cpu\")\n",
    "best_model = RNN(weight = loaded_embeddings_ft,\n",
    "                    emb_size= 300, \n",
    "                    hidden_size=400, \n",
    "                    num_layers=1, \n",
    "                    num_classes =3,\n",
    "                    element_mul = False\n",
    "                    ).to(device)"
   ]
  },
  {
   "cell_type": "code",
   "execution_count": 123,
   "metadata": {},
   "outputs": [
    {
     "data": {
      "text/plain": [
       "RNN(\n",
       "  (embedding): Embedding(50002, 300)\n",
       "  (rnn): GRU(300, 400, batch_first=True, bidirectional=True)\n",
       "  (fc): Sequential(\n",
       "    (0): Linear(in_features=800, out_features=400, bias=True)\n",
       "    (1): ReLU(inplace)\n",
       "    (2): Linear(in_features=400, out_features=3, bias=True)\n",
       "  )\n",
       "  (fc1): Linear(in_features=800, out_features=400, bias=True)\n",
       "  (relu): LeakyReLU(negative_slope=0.01, inplace)\n",
       "  (fc2): Linear(in_features=400, out_features=3, bias=True)\n",
       ")"
      ]
     },
     "execution_count": 123,
     "metadata": {},
     "output_type": "execute_result"
    }
   ],
   "source": [
    "best_model.load_state_dict(torch.load(\"rnn_hs_400.pth\",map_location = \"cpu\"))\n",
    "best_model.eval()"
   ]
  },
  {
   "cell_type": "code",
   "execution_count": 124,
   "metadata": {},
   "outputs": [],
   "source": [
    "correct_list = []\n",
    "wrong_list = []\n",
    "\n",
    "labels_correct = []\n",
    "labels_wrong = []\n",
    "\n",
    "\n",
    "cap = 100\n",
    "\n",
    "for data_1,data_2, lengths_1,lengths_2, labels in val_loader:\n",
    "    data_batch1,data_batch2, length_batch1,length_batch2, label_batch = data_1.to(device),data_2.to(device), lengths_1.to(device),lengths_2.to(device), labels.to(device)\n",
    "    outputs = F.softmax(best_model(data_batch1,data_batch2, length_batch1,length_batch2), dim=1)\n",
    "    predicted = outputs.max(1, keepdim=True)[1]\n",
    "\n",
    "    for i in range(len(predicted)):\n",
    "        if len(correct_list) < cap and len(wrong_list) < cap:\n",
    "            if predicted[i]==label_batch[i]:\n",
    "                \n",
    "                correct_list.append((data_batch1[i],data_batch2[i]))\n",
    "                labels_correct.append((predicted[i],label_batch[i]))\n",
    "                \n",
    "            else:\n",
    "                wrong_list.append((data_batch1[i],data_batch2[i]))\n",
    "                labels_wrong.append((predicted[i],label_batch[i]))\n",
    "        else:\n",
    "            break\n",
    "\n",
    "\n",
    "\n"
   ]
  },
  {
   "cell_type": "code",
   "execution_count": 125,
   "metadata": {
    "collapsed": true
   },
   "outputs": [],
   "source": [
    "def print_sent(sent_list, labels_list, ordered_words_ft):\n",
    "    w=0\n",
    "    for sent in sent_list:\n",
    "\n",
    "        pred, actual = labels_list[w]\n",
    "\n",
    "        if pred == torch.Tensor([0]).long():\n",
    "            pred = 'Contradiction'\n",
    "        elif pred == torch.Tensor([1]).long():\n",
    "            pred = 'Neutral'\n",
    "        else:\n",
    "            pred = 'Entailment'\n",
    "\n",
    "        if actual == torch.Tensor([0]).long():\n",
    "            actual = 'Contradiction'\n",
    "        elif actual == torch.Tensor([1]).long():\n",
    "            actual = 'Neutral'\n",
    "        else:\n",
    "            actual = 'Entailment'\n",
    "\n",
    "        print('S1: ',(\" \").join([ordered_words_ft[i] for i in np.array(sent[0]) if i !=0]))\n",
    "        print('S2: ',(\" \").join([ordered_words_ft[i] for i in np.array(sent[1]) if i !=0]))\n",
    "\n",
    "        print ('Predicted label: ',pred)\n",
    "        print ('Actual label: ', actual)\n",
    "        print ('\\n')\n",
    "\n",
    "        w += 1\n",
    "        if w>6:\n",
    "            break"
   ]
  },
  {
   "cell_type": "code",
   "execution_count": 126,
   "metadata": {},
   "outputs": [
    {
     "name": "stdout",
     "output_type": "stream",
     "text": [
      "S1:  A young girl with blue and pink ribbons in her <unk> , without a top and a woman with a white t-shirt and a zebra skirt wading in a public water fountain .\n",
      "S2:  A young girl <unk> a sweater\n",
      "Predicted label:  Contradiction\n",
      "Actual label:  Contradiction\n",
      "\n",
      "\n",
      "S1:  A shirtless man wearing a black hat and a scarf works on an <unk> .\n",
      "S2:  A man works with an <unk> .\n",
      "Predicted label:  Entailment\n",
      "Actual label:  Entailment\n",
      "\n",
      "\n",
      "S1:  Two brown and white dogs , one jumping over a log while the one behind runs through the grass .\n",
      "S2:  The dogs are laying on a blanket .\n",
      "Predicted label:  Contradiction\n",
      "Actual label:  Contradiction\n",
      "\n",
      "\n",
      "S1:  A group of people walk down a pedestrian only street in Asia near large green trees and older brown buildings .\n",
      "S2:  The group of people is sitting under the trees .\n",
      "Predicted label:  Contradiction\n",
      "Actual label:  Contradiction\n",
      "\n",
      "\n",
      "S1:  A young girl sits on a blue bench drinking out of a straw .\n",
      "S2:  A girl is drinking through a straw on a humid day .\n",
      "Predicted label:  Neutral\n",
      "Actual label:  Neutral\n",
      "\n",
      "\n",
      "S1:  A man dressed all in white throws the first pitch at a baseball game .\n",
      "S2:  A man pitches at a baseball game .\n",
      "Predicted label:  Entailment\n",
      "Actual label:  Entailment\n",
      "\n",
      "\n",
      "S1:  A girl in a red and white uniform tagging out a girl in a black uniform and helmet during a competitive game of softball .\n",
      "S2:  Two girls are playing softball .\n",
      "Predicted label:  Entailment\n",
      "Actual label:  Entailment\n",
      "\n",
      "\n"
     ]
    }
   ],
   "source": [
    "print_sent(correct_list, labels_correct, ordered_words_ft)"
   ]
  },
  {
   "cell_type": "code",
   "execution_count": 127,
   "metadata": {},
   "outputs": [
    {
     "name": "stdout",
     "output_type": "stream",
     "text": [
      "S1:  A man <unk> in a kitchen while wearing gloves and a hat .\n",
      "S2:  The man is baking a cake .\n",
      "Predicted label:  Contradiction\n",
      "Actual label:  Neutral\n",
      "\n",
      "\n",
      "S1:  A person in orange climbs a sheer cliff face covered in snow and ice .\n",
      "S2:  He is climbing the cliff\n",
      "Predicted label:  Neutral\n",
      "Actual label:  Entailment\n",
      "\n",
      "\n",
      "S1:  A woman in a blue shirt and black workout pants practicing martial arts in front of a house .\n",
      "S2:  A woman has a white shirt .\n",
      "Predicted label:  Entailment\n",
      "Actual label:  Contradiction\n",
      "\n",
      "\n",
      "S1:  A child in shorts throws a snowball at a mountain .\n",
      "S2:  A boy is playing in the snow without gloves\n",
      "Predicted label:  Entailment\n",
      "Actual label:  Neutral\n",
      "\n",
      "\n",
      "S1:  A town worker working on electrical equipment .\n",
      "S2:  The worker is off work for the day .\n",
      "Predicted label:  Neutral\n",
      "Actual label:  Contradiction\n",
      "\n",
      "\n",
      "S1:  a surfer is riding the waves whilst another surfer sits on his board waiting .\n",
      "S2:  A surfer watches as his friend is eaten by a large shark .\n",
      "Predicted label:  Neutral\n",
      "Actual label:  Contradiction\n",
      "\n",
      "\n",
      "S1:  A cabin shot of a very crowded airplane\n",
      "S2:  The airplane is in the sky .\n",
      "Predicted label:  Entailment\n",
      "Actual label:  Neutral\n",
      "\n",
      "\n"
     ]
    }
   ],
   "source": [
    "print_sent(wrong_list, labels_wrong, ordered_words_ft)"
   ]
  },
  {
   "cell_type": "code",
   "execution_count": null,
   "metadata": {
    "collapsed": true
   },
   "outputs": [],
   "source": []
  }
 ],
 "metadata": {
  "kernelspec": {
   "display_name": "Python 3",
   "language": "python",
   "name": "python3"
  },
  "language_info": {
   "codemirror_mode": {
    "name": "ipython",
    "version": 3
   },
   "file_extension": ".py",
   "mimetype": "text/x-python",
   "name": "python",
   "nbconvert_exporter": "python",
   "pygments_lexer": "ipython3",
   "version": "3.6.2"
  }
 },
 "nbformat": 4,
 "nbformat_minor": 2
}
